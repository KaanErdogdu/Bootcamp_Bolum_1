{
  "nbformat": 4,
  "nbformat_minor": 0,
  "metadata": {
    "colab": {
      "name": "Odev 4.2)",
      "provenance": [],
      "authorship_tag": "ABX9TyNB6cxmAsKVEhoFotPJcd6I",
      "include_colab_link": true
    },
    "kernelspec": {
      "name": "python3",
      "display_name": "Python 3"
    }
  },
  "cells": [
    {
      "cell_type": "markdown",
      "metadata": {
        "id": "view-in-github",
        "colab_type": "text"
      },
      "source": [
        "<a href=\"https://colab.research.google.com/github/KaanErdogdu/Bootcamp_Bolum_1/blob/master/Odev_4_2).ipynb\" target=\"_parent\"><img src=\"https://colab.research.google.com/assets/colab-badge.svg\" alt=\"Open In Colab\"/></a>"
      ]
    },
    {
      "cell_type": "code",
      "metadata": {
        "id": "3tZAP7S7Vs5j",
        "colab_type": "code",
        "colab": {}
      },
      "source": [
        ""
      ],
      "execution_count": 0,
      "outputs": []
    },
    {
      "cell_type": "markdown",
      "metadata": {
        "id": "x7RF3QH8VwSB",
        "colab_type": "text"
      },
      "source": [
        "1.)Rank değişkenini kategorik olarak değerlendirmenin avantaj ve dezavantajlarını göz önünde bulundurun. Argümanlarınızı mentorunuzla tartışın.\n",
        "\n"
      ]
    },
    {
      "cell_type": "markdown",
      "metadata": {
        "id": "RlZFJZGDV4Kp",
        "colab_type": "text"
      },
      "source": [
        "\n",
        "Rank değişkenini ordinal bir değişken olarak ele alabiliriz. Bu durumda verilerimizi sıraya sokmuş oluruz. Ancak 1. Sıradaki veri ile 2. Sıradaki veri arasında ne gibi bir fark olduğuna dair bilgi vermez. Kategorik bir değişken olarak tanımladığımızda sadece bellirli bir sınırı olduğunu söylemiş oluruz. Ama bazı durumlarda sürekli değişken olarak da değerlendirilebilinir.\n"
      ]
    },
    {
      "cell_type": "markdown",
      "metadata": {
        "id": "92fbT4zRV054",
        "colab_type": "text"
      },
      "source": [
        "2.)Aşağıdaki değişkenlerin türlerini belirleyin:\n",
        "\n",
        "Yaş: Oran Değişkeni olarak tanımlanabilir.\n",
        "\n",
        "Maaş: Aralık değişkeni olarak tanımlanabilir.\n",
        "\n",
        "Gelir: Aralık değişkeni veya gruplanıp kategorik değişken olarak belirlenebilir.\n",
        "\n",
        "Müşteri türü: Nominal değişken olarak belirlenebilir.\n",
        "\n",
        "Hisse senedi fiyatı: Aralık değişkenş olarak tanımlanabilir.\n"
      ]
    },
    {
      "cell_type": "markdown",
      "metadata": {
        "id": "v2UPAf-Nc6T0",
        "colab_type": "text"
      },
      "source": [
        ""
      ]
    }
  ]
}