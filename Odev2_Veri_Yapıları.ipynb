{
  "nbformat": 4,
  "nbformat_minor": 0,
  "metadata": {
    "colab": {
      "name": "Odev2.Veri_Yapıları.ipynb",
      "provenance": [],
      "authorship_tag": "ABX9TyNS/vvHP3AYQMaJiHc+yvyT",
      "include_colab_link": true
    },
    "kernelspec": {
      "name": "python3",
      "display_name": "Python 3"
    }
  },
  "cells": [
    {
      "cell_type": "markdown",
      "metadata": {
        "id": "view-in-github",
        "colab_type": "text"
      },
      "source": [
        "<a href=\"https://colab.research.google.com/github/KaanErdogdu/Bootcamp_Bolum_1/blob/master/Odev2_Veri_Yap%C4%B1lar%C4%B1.ipynb\" target=\"_parent\"><img src=\"https://colab.research.google.com/assets/colab-badge.svg\" alt=\"Open In Colab\"/></a>"
      ]
    },
    {
      "cell_type": "markdown",
      "metadata": {
        "id": "0P_O0WF1STm0",
        "colab_type": "text"
      },
      "source": [
        "**Soru 1.)**"
      ]
    },
    {
      "cell_type": "code",
      "metadata": {
        "id": "kZwPkKz4R7bz",
        "colab_type": "code",
        "outputId": "ab69e960-9913-4a60-e34f-19e372240109",
        "colab": {
          "base_uri": "https://localhost:8080/",
          "height": 34
        }
      },
      "source": [
        "Weekdays= {\"1\":'pazartesi',\n",
        "           \"2\": 'salı',\n",
        "           \"3\": 'carşamba',\n",
        "           \"4\": 'persembe',\n",
        "           \"5\": 'cuma',\n",
        "           \"6\": 'cumartesi',\n",
        "           \"7\":'pazar'} \n",
        "\n",
        "print(Weekdays)"
      ],
      "execution_count": 31,
      "outputs": [
        {
          "output_type": "stream",
          "text": [
            "{'1': 'pazartesi', '2': 'salı', '3': 'carşamba', '4': 'persembe', '5': 'cuma', '6': 'cumartesi', '7': 'pazar'}\n"
          ],
          "name": "stdout"
        }
      ]
    },
    {
      "cell_type": "code",
      "metadata": {
        "id": "WDRjTDoNR-jl",
        "colab_type": "code",
        "outputId": "23f3cede-d81a-484b-fe84-066681e0c0b5",
        "colab": {
          "base_uri": "https://localhost:8080/",
          "height": 34
        }
      },
      "source": [
        "gunler = Weekdays.keys()\n",
        "print(gunler)"
      ],
      "execution_count": 32,
      "outputs": [
        {
          "output_type": "stream",
          "text": [
            "dict_keys(['1', '2', '3', '4', '5', '6', '7'])\n"
          ],
          "name": "stdout"
        }
      ]
    },
    {
      "cell_type": "code",
      "metadata": {
        "id": "Ewe2dPiuSBuV",
        "colab_type": "code",
        "outputId": "eee36f5d-4fa2-4a89-9083-b929f3bccb43",
        "colab": {
          "base_uri": "https://localhost:8080/",
          "height": 34
        }
      },
      "source": [
        "secim=input(gunler)"
      ],
      "execution_count": 33,
      "outputs": [
        {
          "output_type": "stream",
          "text": [
            "dict_keys(['1', '2', '3', '4', '5', '6', '7'])12\n"
          ],
          "name": "stdout"
        }
      ]
    },
    {
      "cell_type": "code",
      "metadata": {
        "id": "rmSuE_BpSGQf",
        "colab_type": "code",
        "colab": {}
      },
      "source": [
        "arr1=secim[0]\n",
        "arr2=secim[1]"
      ],
      "execution_count": 0,
      "outputs": []
    },
    {
      "cell_type": "code",
      "metadata": {
        "id": "0gFflZXvSNWP",
        "colab_type": "code",
        "outputId": "c5bce5bf-a4e0-493f-92a7-591770f26e01",
        "colab": {
          "base_uri": "https://localhost:8080/",
          "height": 34
        }
      },
      "source": [
        "del Weekdays[arr1]\n",
        "del Weekdays[arr2]\n",
        "print(Weekdays)"
      ],
      "execution_count": 35,
      "outputs": [
        {
          "output_type": "stream",
          "text": [
            "{'3': 'carşamba', '4': 'persembe', '5': 'cuma', '6': 'cumartesi', '7': 'pazar'}\n"
          ],
          "name": "stdout"
        }
      ]
    },
    {
      "cell_type": "code",
      "metadata": {
        "id": "6PzvYCcwSPP6",
        "colab_type": "code",
        "colab": {}
      },
      "source": [
        ""
      ],
      "execution_count": 0,
      "outputs": []
    },
    {
      "cell_type": "markdown",
      "metadata": {
        "id": "Y9xw_nQ0Sg2T",
        "colab_type": "text"
      },
      "source": [
        "**Soru 2.)**\n"
      ]
    },
    {
      "cell_type": "code",
      "metadata": {
        "id": "ktY3i_X9SkOH",
        "colab_type": "code",
        "colab": {}
      },
      "source": [
        "aylar=[{'ocak':31},{'subat':29},{'mart':30},{'nisan':31},{'mayıs':30},{'haziran':31},{'temmuz':30},{'agustos':31},{'eylül':30},{'ekim':31},{'kasım':30},{'aralık':31}]\n"
      ],
      "execution_count": 0,
      "outputs": []
    },
    {
      "cell_type": "code",
      "metadata": {
        "id": "B6wnjql522Vb",
        "colab_type": "code",
        "outputId": "eb7bcce5-e907-4082-ec4e-a67aa4b8855d",
        "colab": {
          "base_uri": "https://localhost:8080/",
          "height": 34
        }
      },
      "source": [
        "print(aylar)\n"
      ],
      "execution_count": 68,
      "outputs": [
        {
          "output_type": "stream",
          "text": [
            "[{'ocak': 31}, {'subat': 29}, {'mart': 30}, {'nisan': 31}, {'mayıs': 30}, {'haziran': 31}, {'temmuz': 30}, {'agustos': 31}, {'eylül': 30}, {'ekim': 31}, {'kasım': 30}, {'aralık': 31}]\n"
          ],
          "name": "stdout"
        }
      ]
    },
    {
      "cell_type": "code",
      "metadata": {
        "id": "1Ro78pHWmoj5",
        "colab_type": "code",
        "colab": {
          "base_uri": "https://localhost:8080/",
          "height": 162
        },
        "outputId": "be63fdee-f794-4c0b-9f1e-8fffc2c72197"
      },
      "source": [
        "print(aylar[0:11].items(),'\\n')"
      ],
      "execution_count": 69,
      "outputs": [
        {
          "output_type": "error",
          "ename": "AttributeError",
          "evalue": "ignored",
          "traceback": [
            "\u001b[0;31m---------------------------------------------------------------------------\u001b[0m",
            "\u001b[0;31mAttributeError\u001b[0m                            Traceback (most recent call last)",
            "\u001b[0;32m<ipython-input-69-5d9090a56ded>\u001b[0m in \u001b[0;36m<module>\u001b[0;34m()\u001b[0m\n\u001b[0;32m----> 1\u001b[0;31m \u001b[0mprint\u001b[0m\u001b[0;34m(\u001b[0m\u001b[0maylar\u001b[0m\u001b[0;34m[\u001b[0m\u001b[0;36m0\u001b[0m\u001b[0;34m:\u001b[0m\u001b[0;36m11\u001b[0m\u001b[0;34m]\u001b[0m\u001b[0;34m.\u001b[0m\u001b[0mitems\u001b[0m\u001b[0;34m(\u001b[0m\u001b[0;34m)\u001b[0m\u001b[0;34m,\u001b[0m\u001b[0;34m'\\n'\u001b[0m\u001b[0;34m)\u001b[0m\u001b[0;34m\u001b[0m\u001b[0;34m\u001b[0m\u001b[0m\n\u001b[0m",
            "\u001b[0;31mAttributeError\u001b[0m: 'list' object has no attribute 'items'"
          ]
        }
      ]
    },
    {
      "cell_type": "code",
      "metadata": {
        "id": "O4wpIs0f24b9",
        "colab_type": "code",
        "colab": {}
      },
      "source": [
        "kıs= aylar[11],aylar[0:2]\n",
        "ilkbahar =aylar[2:5]\n",
        "sonbahar =aylar[8:11]\n",
        "yaz = aylar[5:8]"
      ],
      "execution_count": 0,
      "outputs": []
    },
    {
      "cell_type": "code",
      "metadata": {
        "id": "Pu5-4_uV26bh",
        "colab_type": "code",
        "outputId": "18ca608f-5185-400a-a037-62e815bab0c9",
        "colab": {
          "base_uri": "https://localhost:8080/",
          "height": 84
        }
      },
      "source": [
        "print(kıs)\n",
        "print(ilkbahar)\n",
        "print(yaz)\n",
        "print(sonbahar)"
      ],
      "execution_count": 71,
      "outputs": [
        {
          "output_type": "stream",
          "text": [
            "({'aralık': 31}, [{'ocak': 31}, {'subat': 29}])\n",
            "[{'mart': 30}, {'nisan': 31}, {'mayıs': 30}]\n",
            "[{'haziran': 31}, {'temmuz': 30}, {'agustos': 31}]\n",
            "[{'eylül': 30}, {'ekim': 31}, {'kasım': 30}]\n"
          ],
          "name": "stdout"
        }
      ]
    },
    {
      "cell_type": "code",
      "metadata": {
        "id": "FkOUhzLe28k0",
        "colab_type": "code",
        "outputId": "aaedaed1-b7bc-4a57-ee9a-931cb9b07ff0",
        "colab": {
          "base_uri": "https://localhost:8080/",
          "height": 34
        }
      },
      "source": [
        "yazgun=yaz[0]['haziran'] + yaz[1]['temmuz'] + yaz[2]['agustos']\n",
        "print(yazgun)"
      ],
      "execution_count": 72,
      "outputs": [
        {
          "output_type": "stream",
          "text": [
            "92\n"
          ],
          "name": "stdout"
        }
      ]
    },
    {
      "cell_type": "code",
      "metadata": {
        "id": "q33TC5I53E-K",
        "colab_type": "code",
        "colab": {}
      },
      "source": [
        "aylar23=[{'ocak':31,\n",
        "        'subat':29,\n",
        "        'mart':30,\n",
        "        'nisan':31,\n",
        "        'mayıs':30,\n",
        "        'haziran':31,\n",
        "        'temmuz':30,\n",
        "        'agustos':31,\n",
        "        'eylül':30,\n",
        "        'ekim':31,\n",
        "        'kasım':30,\n",
        "        'aralık':31}]\n"
      ],
      "execution_count": 0,
      "outputs": []
    },
    {
      "cell_type": "code",
      "metadata": {
        "id": "evrxoi0Bgwih",
        "colab_type": "code",
        "colab": {
          "base_uri": "https://localhost:8080/",
          "height": 218
        },
        "outputId": "9cff71d8-e85a-487f-beb9-bc9fb62044da"
      },
      "source": [
        "aylar23[0]"
      ],
      "execution_count": 74,
      "outputs": [
        {
          "output_type": "execute_result",
          "data": {
            "text/plain": [
              "{'agustos': 31,\n",
              " 'aralık': 31,\n",
              " 'ekim': 31,\n",
              " 'eylül': 30,\n",
              " 'haziran': 31,\n",
              " 'kasım': 30,\n",
              " 'mart': 30,\n",
              " 'mayıs': 30,\n",
              " 'nisan': 31,\n",
              " 'ocak': 31,\n",
              " 'subat': 29,\n",
              " 'temmuz': 30}"
            ]
          },
          "metadata": {
            "tags": []
          },
          "execution_count": 74
        }
      ]
    },
    {
      "cell_type": "code",
      "metadata": {
        "id": "mot0xIsahpy1",
        "colab_type": "code",
        "colab": {
          "base_uri": "https://localhost:8080/",
          "height": 50
        },
        "outputId": "e847bcf2-dbaf-489a-bf5e-b991dc2be093"
      },
      "source": [
        "print(list(aylar23[0].items()),'\\n')\n"
      ],
      "execution_count": 75,
      "outputs": [
        {
          "output_type": "stream",
          "text": [
            "[('ocak', 31), ('subat', 29), ('mart', 30), ('nisan', 31), ('mayıs', 30), ('haziran', 31), ('temmuz', 30), ('agustos', 31), ('eylül', 30), ('ekim', 31), ('kasım', 30), ('aralık', 31)] \n",
            "\n"
          ],
          "name": "stdout"
        }
      ]
    },
    {
      "cell_type": "code",
      "metadata": {
        "id": "bNppwx5th0Gs",
        "colab_type": "code",
        "colab": {}
      },
      "source": [
        "aylar12=list(aylar23[0].items())"
      ],
      "execution_count": 0,
      "outputs": []
    },
    {
      "cell_type": "code",
      "metadata": {
        "id": "B2WiIVSAi9bE",
        "colab_type": "code",
        "colab": {
          "base_uri": "https://localhost:8080/",
          "height": 34
        },
        "outputId": "ed47f209-3918-416c-caf0-f07ea22f3dd2"
      },
      "source": [
        "print(aylar12[0:2])"
      ],
      "execution_count": 21,
      "outputs": [
        {
          "output_type": "stream",
          "text": [
            "[('ocak', 31), ('subat', 29)]\n"
          ],
          "name": "stdout"
        }
      ]
    },
    {
      "cell_type": "code",
      "metadata": {
        "id": "KPduXiyqjESR",
        "colab_type": "code",
        "colab": {}
      },
      "source": [
        "kıs12= aylar12[11],aylar12[0:2]\n",
        "ilkbahar12= aylar12[2:5]\n",
        "sonbahar12 =aylar12[8:11]\n",
        "yaz12 = aylar12[5:8]"
      ],
      "execution_count": 0,
      "outputs": []
    },
    {
      "cell_type": "code",
      "metadata": {
        "id": "eh-DCWZBjuBb",
        "colab_type": "code",
        "colab": {
          "base_uri": "https://localhost:8080/",
          "height": 84
        },
        "outputId": "0f77fa3c-5f86-4f68-c8f0-78c94f337088"
      },
      "source": [
        "print(kıs12)\n",
        "print(ilkbahar12)\n",
        "print(yaz12)\n",
        "print(sonbahar12)"
      ],
      "execution_count": 80,
      "outputs": [
        {
          "output_type": "stream",
          "text": [
            "(('aralık', 31), [('ocak', 31), ('subat', 29)])\n",
            "[('mart', 30), ('nisan', 31), ('mayıs', 30)]\n",
            "[('haziran', 31), ('temmuz', 30), ('agustos', 31)]\n",
            "[('eylül', 30), ('ekim', 31), ('kasım', 30)]\n"
          ],
          "name": "stdout"
        }
      ]
    },
    {
      "cell_type": "code",
      "metadata": {
        "id": "zot1VKL2jysZ",
        "colab_type": "code",
        "colab": {
          "base_uri": "https://localhost:8080/",
          "height": 34
        },
        "outputId": "bff38828-443f-4f89-be55-6fd2da7ed1f0"
      },
      "source": [
        "yazgun12=yaz12[0][1] + yaz12[1][1] + yaz12[2][1]\n",
        "print(yazgun12)"
      ],
      "execution_count": 81,
      "outputs": [
        {
          "output_type": "stream",
          "text": [
            "92\n"
          ],
          "name": "stdout"
        }
      ]
    },
    {
      "cell_type": "code",
      "metadata": {
        "id": "0OoorbEnkTvk",
        "colab_type": "code",
        "colab": {}
      },
      "source": [
        ""
      ],
      "execution_count": 0,
      "outputs": []
    }
  ]
}