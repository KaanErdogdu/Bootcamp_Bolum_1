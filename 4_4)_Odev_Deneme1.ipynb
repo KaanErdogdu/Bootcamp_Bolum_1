{
  "nbformat": 4,
  "nbformat_minor": 0,
  "metadata": {
    "colab": {
      "name": "4.4) Odev Deneme1",
      "provenance": [],
      "authorship_tag": "ABX9TyMbbjqNsiYEzaSyyxmi/Nkj",
      "include_colab_link": true
    },
    "kernelspec": {
      "name": "python3",
      "display_name": "Python 3"
    }
  },
  "cells": [
    {
      "cell_type": "markdown",
      "metadata": {
        "id": "view-in-github",
        "colab_type": "text"
      },
      "source": [
        "<a href=\"https://colab.research.google.com/github/KaanErdogdu/Bootcamp_Bolum_1/blob/master/4_4)_Odev_Deneme1.ipynb\" target=\"_parent\"><img src=\"https://colab.research.google.com/assets/colab-badge.svg\" alt=\"Open In Colab\"/></a>"
      ]
    },
    {
      "cell_type": "code",
      "metadata": {
        "id": "o-0YyECnepI4",
        "colab_type": "code",
        "colab": {}
      },
      "source": [
        "import pandas as pd\n",
        "import numpy as np\n",
        "import warnings\n",
        "import matplotlib.pyplot as plt\n"
      ],
      "execution_count": 0,
      "outputs": []
    },
    {
      "cell_type": "markdown",
      "metadata": {
        "id": "RTFuiqfTWsJd",
        "colab_type": "text"
      },
      "source": [
        "1.)Toplam gelir verilerini içeren TOTAL_REVENUE ve toplam harcama verilerini içeren TOTAL_EXPENDITURE değişkenlerini inceleyin. Bu değişkenler aykırı değerler içeriyor mu?"
      ]
    },
    {
      "cell_type": "code",
      "metadata": {
        "id": "G8qO2yB4evmg",
        "colab_type": "code",
        "outputId": "0e561395-f30f-43e1-edb8-a00cfab06348",
        "colab": {
          "base_uri": "https://localhost:8080/",
          "height": 218
        }
      },
      "source": [
        "statesData = pd.read_csv(\"states_all.csv\")\n",
        "statesData.head()"
      ],
      "execution_count": 2,
      "outputs": [
        {
          "output_type": "execute_result",
          "data": {
            "text/html": [
              "<div>\n",
              "<style scoped>\n",
              "    .dataframe tbody tr th:only-of-type {\n",
              "        vertical-align: middle;\n",
              "    }\n",
              "\n",
              "    .dataframe tbody tr th {\n",
              "        vertical-align: top;\n",
              "    }\n",
              "\n",
              "    .dataframe thead th {\n",
              "        text-align: right;\n",
              "    }\n",
              "</style>\n",
              "<table border=\"1\" class=\"dataframe\">\n",
              "  <thead>\n",
              "    <tr style=\"text-align: right;\">\n",
              "      <th></th>\n",
              "      <th>PRIMARY_KEY</th>\n",
              "      <th>STATE</th>\n",
              "      <th>YEAR</th>\n",
              "      <th>ENROLL</th>\n",
              "      <th>TOTAL_REVENUE</th>\n",
              "      <th>FEDERAL_REVENUE</th>\n",
              "      <th>STATE_REVENUE</th>\n",
              "      <th>LOCAL_REVENUE</th>\n",
              "      <th>TOTAL_EXPENDITURE</th>\n",
              "      <th>INSTRUCTION_EXPENDITURE</th>\n",
              "      <th>SUPPORT_SERVICES_EXPENDITURE</th>\n",
              "      <th>OTHER_EXPENDITURE</th>\n",
              "      <th>CAPITAL_OUTLAY_EXPENDITURE</th>\n",
              "      <th>GRADES_PK_G</th>\n",
              "      <th>GRADES_KG_G</th>\n",
              "      <th>GRADES_4_G</th>\n",
              "      <th>GRADES_8_G</th>\n",
              "      <th>GRADES_12_G</th>\n",
              "      <th>GRADES_1_8_G</th>\n",
              "      <th>GRADES_9_12_G</th>\n",
              "      <th>GRADES_ALL_G</th>\n",
              "      <th>AVG_MATH_4_SCORE</th>\n",
              "      <th>AVG_MATH_8_SCORE</th>\n",
              "      <th>AVG_READING_4_SCORE</th>\n",
              "      <th>AVG_READING_8_SCORE</th>\n",
              "    </tr>\n",
              "  </thead>\n",
              "  <tbody>\n",
              "    <tr>\n",
              "      <th>0</th>\n",
              "      <td>1992_ALABAMA</td>\n",
              "      <td>ALABAMA</td>\n",
              "      <td>1992</td>\n",
              "      <td>NaN</td>\n",
              "      <td>2678885.0</td>\n",
              "      <td>304177.0</td>\n",
              "      <td>1659028.0</td>\n",
              "      <td>715680.0</td>\n",
              "      <td>2653798.0</td>\n",
              "      <td>1481703.0</td>\n",
              "      <td>735036.0</td>\n",
              "      <td>NaN</td>\n",
              "      <td>174053.0</td>\n",
              "      <td>8224.0</td>\n",
              "      <td>55460.0</td>\n",
              "      <td>57948.0</td>\n",
              "      <td>58025.0</td>\n",
              "      <td>41167.0</td>\n",
              "      <td>NaN</td>\n",
              "      <td>NaN</td>\n",
              "      <td>731634.0</td>\n",
              "      <td>208.0</td>\n",
              "      <td>252.0</td>\n",
              "      <td>207.0</td>\n",
              "      <td>NaN</td>\n",
              "    </tr>\n",
              "    <tr>\n",
              "      <th>1</th>\n",
              "      <td>1992_ALASKA</td>\n",
              "      <td>ALASKA</td>\n",
              "      <td>1992</td>\n",
              "      <td>NaN</td>\n",
              "      <td>1049591.0</td>\n",
              "      <td>106780.0</td>\n",
              "      <td>720711.0</td>\n",
              "      <td>222100.0</td>\n",
              "      <td>972488.0</td>\n",
              "      <td>498362.0</td>\n",
              "      <td>350902.0</td>\n",
              "      <td>NaN</td>\n",
              "      <td>37451.0</td>\n",
              "      <td>2371.0</td>\n",
              "      <td>10152.0</td>\n",
              "      <td>9748.0</td>\n",
              "      <td>8789.0</td>\n",
              "      <td>6714.0</td>\n",
              "      <td>NaN</td>\n",
              "      <td>NaN</td>\n",
              "      <td>122487.0</td>\n",
              "      <td>NaN</td>\n",
              "      <td>NaN</td>\n",
              "      <td>NaN</td>\n",
              "      <td>NaN</td>\n",
              "    </tr>\n",
              "    <tr>\n",
              "      <th>2</th>\n",
              "      <td>1992_ARIZONA</td>\n",
              "      <td>ARIZONA</td>\n",
              "      <td>1992</td>\n",
              "      <td>NaN</td>\n",
              "      <td>3258079.0</td>\n",
              "      <td>297888.0</td>\n",
              "      <td>1369815.0</td>\n",
              "      <td>1590376.0</td>\n",
              "      <td>3401580.0</td>\n",
              "      <td>1435908.0</td>\n",
              "      <td>1007732.0</td>\n",
              "      <td>NaN</td>\n",
              "      <td>609114.0</td>\n",
              "      <td>2544.0</td>\n",
              "      <td>53497.0</td>\n",
              "      <td>55433.0</td>\n",
              "      <td>49081.0</td>\n",
              "      <td>37410.0</td>\n",
              "      <td>NaN</td>\n",
              "      <td>NaN</td>\n",
              "      <td>673477.0</td>\n",
              "      <td>215.0</td>\n",
              "      <td>265.0</td>\n",
              "      <td>209.0</td>\n",
              "      <td>NaN</td>\n",
              "    </tr>\n",
              "    <tr>\n",
              "      <th>3</th>\n",
              "      <td>1992_ARKANSAS</td>\n",
              "      <td>ARKANSAS</td>\n",
              "      <td>1992</td>\n",
              "      <td>NaN</td>\n",
              "      <td>1711959.0</td>\n",
              "      <td>178571.0</td>\n",
              "      <td>958785.0</td>\n",
              "      <td>574603.0</td>\n",
              "      <td>1743022.0</td>\n",
              "      <td>964323.0</td>\n",
              "      <td>483488.0</td>\n",
              "      <td>NaN</td>\n",
              "      <td>145212.0</td>\n",
              "      <td>808.0</td>\n",
              "      <td>33511.0</td>\n",
              "      <td>34632.0</td>\n",
              "      <td>36011.0</td>\n",
              "      <td>27651.0</td>\n",
              "      <td>NaN</td>\n",
              "      <td>NaN</td>\n",
              "      <td>441490.0</td>\n",
              "      <td>210.0</td>\n",
              "      <td>256.0</td>\n",
              "      <td>211.0</td>\n",
              "      <td>NaN</td>\n",
              "    </tr>\n",
              "    <tr>\n",
              "      <th>4</th>\n",
              "      <td>1992_CALIFORNIA</td>\n",
              "      <td>CALIFORNIA</td>\n",
              "      <td>1992</td>\n",
              "      <td>NaN</td>\n",
              "      <td>26260025.0</td>\n",
              "      <td>2072470.0</td>\n",
              "      <td>16546514.0</td>\n",
              "      <td>7641041.0</td>\n",
              "      <td>27138832.0</td>\n",
              "      <td>14358922.0</td>\n",
              "      <td>8520926.0</td>\n",
              "      <td>NaN</td>\n",
              "      <td>2044688.0</td>\n",
              "      <td>59067.0</td>\n",
              "      <td>431763.0</td>\n",
              "      <td>418418.0</td>\n",
              "      <td>363296.0</td>\n",
              "      <td>270675.0</td>\n",
              "      <td>NaN</td>\n",
              "      <td>NaN</td>\n",
              "      <td>5254844.0</td>\n",
              "      <td>208.0</td>\n",
              "      <td>261.0</td>\n",
              "      <td>202.0</td>\n",
              "      <td>NaN</td>\n",
              "    </tr>\n",
              "  </tbody>\n",
              "</table>\n",
              "</div>"
            ],
            "text/plain": [
              "       PRIMARY_KEY       STATE  ...  AVG_READING_4_SCORE  AVG_READING_8_SCORE\n",
              "0     1992_ALABAMA     ALABAMA  ...                207.0                  NaN\n",
              "1      1992_ALASKA      ALASKA  ...                  NaN                  NaN\n",
              "2     1992_ARIZONA     ARIZONA  ...                209.0                  NaN\n",
              "3    1992_ARKANSAS    ARKANSAS  ...                211.0                  NaN\n",
              "4  1992_CALIFORNIA  CALIFORNIA  ...                202.0                  NaN\n",
              "\n",
              "[5 rows x 25 columns]"
            ]
          },
          "metadata": {
            "tags": []
          },
          "execution_count": 2
        }
      ]
    },
    {
      "cell_type": "code",
      "metadata": {
        "id": "kxdgvqStfBih",
        "colab_type": "code",
        "outputId": "e8136bb9-3fba-435e-fb41-b61983be79b9",
        "colab": {
          "base_uri": "https://localhost:8080/",
          "height": 599
        }
      },
      "source": [
        "statesData.info()"
      ],
      "execution_count": 3,
      "outputs": [
        {
          "output_type": "stream",
          "text": [
            "<class 'pandas.core.frame.DataFrame'>\n",
            "RangeIndex: 1715 entries, 0 to 1714\n",
            "Data columns (total 25 columns):\n",
            " #   Column                        Non-Null Count  Dtype  \n",
            "---  ------                        --------------  -----  \n",
            " 0   PRIMARY_KEY                   1715 non-null   object \n",
            " 1   STATE                         1715 non-null   object \n",
            " 2   YEAR                          1715 non-null   int64  \n",
            " 3   ENROLL                        1224 non-null   float64\n",
            " 4   TOTAL_REVENUE                 1275 non-null   float64\n",
            " 5   FEDERAL_REVENUE               1275 non-null   float64\n",
            " 6   STATE_REVENUE                 1275 non-null   float64\n",
            " 7   LOCAL_REVENUE                 1275 non-null   float64\n",
            " 8   TOTAL_EXPENDITURE             1275 non-null   float64\n",
            " 9   INSTRUCTION_EXPENDITURE       1275 non-null   float64\n",
            " 10  SUPPORT_SERVICES_EXPENDITURE  1275 non-null   float64\n",
            " 11  OTHER_EXPENDITURE             1224 non-null   float64\n",
            " 12  CAPITAL_OUTLAY_EXPENDITURE    1275 non-null   float64\n",
            " 13  GRADES_PK_G                   1542 non-null   float64\n",
            " 14  GRADES_KG_G                   1632 non-null   float64\n",
            " 15  GRADES_4_G                    1632 non-null   float64\n",
            " 16  GRADES_8_G                    1632 non-null   float64\n",
            " 17  GRADES_12_G                   1632 non-null   float64\n",
            " 18  GRADES_1_8_G                  1020 non-null   float64\n",
            " 19  GRADES_9_12_G                 1071 non-null   float64\n",
            " 20  GRADES_ALL_G                  1632 non-null   float64\n",
            " 21  AVG_MATH_4_SCORE              565 non-null    float64\n",
            " 22  AVG_MATH_8_SCORE              602 non-null    float64\n",
            " 23  AVG_READING_4_SCORE           650 non-null    float64\n",
            " 24  AVG_READING_8_SCORE           562 non-null    float64\n",
            "dtypes: float64(22), int64(1), object(2)\n",
            "memory usage: 335.1+ KB\n"
          ],
          "name": "stdout"
        }
      ]
    },
    {
      "cell_type": "markdown",
      "metadata": {
        "id": "vTsgP_iiW2mD",
        "colab_type": "text"
      },
      "source": [
        "2.)Toplam gelir (TOTAL_REVENUE) ve toplam harcama (TOTAL_EXPENDITURE) değişkenlerinde aykırı değer tespit ettiyseniz bu derste öğrendiğiniz teknikleri uygulayarak bu aykırı değerleri ortadan kaldırın ve bunu yaptıktan sonra hiçbir aykırı değer kalmadığını doğrulayın."
      ]
    },
    {
      "cell_type": "code",
      "metadata": {
        "id": "5dnYAxWofEbP",
        "colab_type": "code",
        "outputId": "8acbc3dd-c6fe-4c2d-ee9f-86bd97e14601",
        "colab": {
          "base_uri": "https://localhost:8080/",
          "height": 599
        }
      },
      "source": [
        "statesData[\"TOTAL_REVENUE\"].fillna(statesData.TOTAL_REVENUE.mean(), inplace=True)\n",
        "statesData[\"FEDERAL_REVENUE\"].fillna(statesData[\"FEDERAL_REVENUE\"].mean(), inplace=True)\n",
        "statesData[\"STATE_REVENUE\"].fillna(statesData[\"STATE_REVENUE\"].mean(), inplace=True)\n",
        "statesData[\"LOCAL_REVENUE\"].fillna(statesData[\"LOCAL_REVENUE\"].mean(), inplace=True)\n",
        "statesData[\"TOTAL_EXPENDITURE\"].fillna(statesData[\"TOTAL_EXPENDITURE\"].mean(), inplace=True)\n",
        "statesData[\"INSTRUCTION_EXPENDITURE\"].fillna(statesData[\"INSTRUCTION_EXPENDITURE\"], inplace=True)\n",
        "statesData[\"SUPPORT_SERVICES_EXPENDITURE\"].fillna(statesData[\"SUPPORT_SERVICES_EXPENDITURE\"], inplace=True)\n",
        "statesData[\"OTHER_EXPENDITURE\"].fillna(statesData[\"OTHER_EXPENDITURE\"].mean(), inplace=True)\n",
        "statesData[\"CAPITAL_OUTLAY_EXPENDITURE\"].fillna(statesData[\"CAPITAL_OUTLAY_EXPENDITURE\"].mean(), inplace=True)\n",
        "statesData[\"GRADES_PK_G\"].fillna(statesData[\"GRADES_PK_G\"].mean(), inplace=True)\n",
        "statesData[\"GRADES_KG_G\"].fillna(statesData[\"GRADES_KG_G\"].mean(), inplace=True)\n",
        "statesData[\"GRADES_4_G\"].fillna(statesData[\"GRADES_4_G\"].mean(), inplace=True)\n",
        "statesData[\"GRADES_8_G\"].fillna(statesData[\"GRADES_8_G\"].mean(), inplace=True)\n",
        "statesData[\"GRADES_12_G\"].fillna(statesData[\"GRADES_12_G\"].mean(), inplace=True)\n",
        "statesData[\"GRADES_ALL_G\"].fillna(statesData[\"GRADES_ALL_G\"].mean(), inplace=True)\n",
        "statesData[\"AVG_MATH_4_SCORE\"].fillna(statesData[\"AVG_MATH_4_SCORE\"].mean(), inplace=True)\n",
        "statesData[\"AVG_MATH_8_SCORE\"].fillna(statesData[\"AVG_MATH_8_SCORE\"].mean(), inplace=True)\n",
        "statesData[\"AVG_READING_4_SCORE\"].fillna(statesData[\"AVG_READING_4_SCORE\"].mean(), inplace=True)\n",
        "statesData[\"AVG_READING_8_SCORE\"].fillna(statesData[\"AVG_READING_8_SCORE\"].mean(), inplace=True)\n",
        "statesData[\"GRADES_1_8_G\"].fillna(statesData[\"GRADES_1_8_G\"].mean(), inplace=True)\n",
        "statesData[\"GRADES_9_12_G\"].fillna(statesData[\"GRADES_9_12_G\"].mean(), inplace=True)\n",
        "statesData.info()"
      ],
      "execution_count": 4,
      "outputs": [
        {
          "output_type": "stream",
          "text": [
            "<class 'pandas.core.frame.DataFrame'>\n",
            "RangeIndex: 1715 entries, 0 to 1714\n",
            "Data columns (total 25 columns):\n",
            " #   Column                        Non-Null Count  Dtype  \n",
            "---  ------                        --------------  -----  \n",
            " 0   PRIMARY_KEY                   1715 non-null   object \n",
            " 1   STATE                         1715 non-null   object \n",
            " 2   YEAR                          1715 non-null   int64  \n",
            " 3   ENROLL                        1224 non-null   float64\n",
            " 4   TOTAL_REVENUE                 1715 non-null   float64\n",
            " 5   FEDERAL_REVENUE               1715 non-null   float64\n",
            " 6   STATE_REVENUE                 1715 non-null   float64\n",
            " 7   LOCAL_REVENUE                 1715 non-null   float64\n",
            " 8   TOTAL_EXPENDITURE             1715 non-null   float64\n",
            " 9   INSTRUCTION_EXPENDITURE       1275 non-null   float64\n",
            " 10  SUPPORT_SERVICES_EXPENDITURE  1275 non-null   float64\n",
            " 11  OTHER_EXPENDITURE             1715 non-null   float64\n",
            " 12  CAPITAL_OUTLAY_EXPENDITURE    1715 non-null   float64\n",
            " 13  GRADES_PK_G                   1715 non-null   float64\n",
            " 14  GRADES_KG_G                   1715 non-null   float64\n",
            " 15  GRADES_4_G                    1715 non-null   float64\n",
            " 16  GRADES_8_G                    1715 non-null   float64\n",
            " 17  GRADES_12_G                   1715 non-null   float64\n",
            " 18  GRADES_1_8_G                  1715 non-null   float64\n",
            " 19  GRADES_9_12_G                 1715 non-null   float64\n",
            " 20  GRADES_ALL_G                  1715 non-null   float64\n",
            " 21  AVG_MATH_4_SCORE              1715 non-null   float64\n",
            " 22  AVG_MATH_8_SCORE              1715 non-null   float64\n",
            " 23  AVG_READING_4_SCORE           1715 non-null   float64\n",
            " 24  AVG_READING_8_SCORE           1715 non-null   float64\n",
            "dtypes: float64(22), int64(1), object(2)\n",
            "memory usage: 335.1+ KB\n"
          ],
          "name": "stdout"
        }
      ]
    },
    {
      "cell_type": "code",
      "metadata": {
        "id": "1p5zr4zQfQOP",
        "colab_type": "code",
        "outputId": "ab0d0aa7-ade9-4ac5-951f-4336f18dc18e",
        "colab": {
          "base_uri": "https://localhost:8080/",
          "height": 299
        }
      },
      "source": [
        "plt.boxplot(statesData[\"TOTAL_REVENUE\"], whis=10 )\n",
        "baslik_font = {'family': 'arial', 'color': 'darkred','weight': 'bold','size': 13 }\n",
        "eksen_font  = {'family': 'arial', 'color': 'darkblue','weight': 'bold','size': 10 }\n",
        "plt.title(\"TOTAL_REVENUE kutu grafiği (whis=10)\", fontdict=baslik_font)\n",
        "plt.show()"
      ],
      "execution_count": 5,
      "outputs": [
        {
          "output_type": "stream",
          "text": [
            "findfont: Font family ['arial'] not found. Falling back to DejaVu Sans.\n"
          ],
          "name": "stderr"
        },
        {
          "output_type": "display_data",
          "data": {
            "image/png": "[encoded data removed]",
            "text/plain": [
              "<Figure size 432x288 with 1 Axes>"
            ]
          },
          "metadata": {
            "tags": [],
            "needs_background": "light"
          }
        }
      ]
    },
    {
      "cell_type": "code",
      "metadata": {
        "id": "bP6mopKMgalk",
        "colab_type": "code",
        "outputId": "6dec40ff-55c1-41d4-f4c6-b705e3cc44be",
        "colab": {
          "base_uri": "https://localhost:8080/",
          "height": 281
        }
      },
      "source": [
        "plt.boxplot(statesData[\"TOTAL_EXPENDITURE\"], whis=10 )\n",
        "baslik_font = {'family': 'arial', 'color': 'darkred','weight': 'bold','size': 13 }\n",
        "eksen_font  = {'family': 'arial', 'color': 'darkblue','weight': 'bold','size': 10 }\n",
        "plt.title(\"TOTAL_EXPENDITURE  kutu grafiği (whis=10)\", fontdict=baslik_font)\n",
        "plt.show()"
      ],
      "execution_count": 6,
      "outputs": [
        {
          "output_type": "display_data",
          "data": {
            "image/png": "[encoded data removed]",
            "text/plain": [
              "<Figure size 432x288 with 1 Axes>"
            ]
          },
          "metadata": {
            "tags": [],
            "needs_background": "light"
          }
        }
      ]
    },
    {
      "cell_type": "code",
      "metadata": {
        "id": "fHcKT63riGtn",
        "colab_type": "code",
        "outputId": "a1923796-f00f-4722-df75-2360f50bfd56",
        "colab": {
          "base_uri": "https://localhost:8080/",
          "height": 294
        }
      },
      "source": [
        "plt.hist(statesData[\"TOTAL_REVENUE\"])\n",
        "plt.title(\"Total Revenue histogramı\", fontdict=baslik_font)\n",
        "plt.show()\n"
      ],
      "execution_count": 7,
      "outputs": [
        {
          "output_type": "display_data",
          "data": {
            "image/png": "[encoded data removed]",
            "text/plain": [
              "<Figure size 432x288 with 1 Axes>"
            ]
          },
          "metadata": {
            "tags": [],
            "needs_background": "light"
          }
        }
      ]
    },
    {
      "cell_type": "code",
      "metadata": {
        "id": "gXNlv1lJi5UB",
        "colab_type": "code",
        "outputId": "d90bfcf8-8e2d-4bab-e0ac-557b4029b4de",
        "colab": {
          "base_uri": "https://localhost:8080/",
          "height": 294
        }
      },
      "source": [
        "plt.hist(statesData[\"TOTAL_EXPENDITURE\"])\n",
        "plt.title(\"TOTAL_EXPENDITURE histogramı\", fontdict=baslik_font)\n",
        "plt.show()"
      ],
      "execution_count": 8,
      "outputs": [
        {
          "output_type": "display_data",
          "data": {
            "image/png": "[encoded data removed]",
            "text/plain": [
              "<Figure size 432x288 with 1 Axes>"
            ]
          },
          "metadata": {
            "tags": [],
            "needs_background": "light"
          }
        }
      ]
    },
    {
      "cell_type": "code",
      "metadata": {
        "id": "UlZJZMusjdHV",
        "colab_type": "code",
        "outputId": "5f1c3b4e-dc4d-4a98-d88b-e4e5f2ef9e4e",
        "colab": {
          "base_uri": "https://localhost:8080/",
          "height": 235
        }
      },
      "source": [
        "from scipy.stats import zscore\n",
        "\n",
        "z_scores = zscore(statesData[\"TOTAL_REVENUE\"])\n",
        "for threshold in range(1,5):\n",
        "    print(\"Eşik değeri: {}\".format(threshold))\n",
        "    print(\"Aykırı değerlerin sayısı: {}\".format(len((np.where(z_scores > threshold)[0]))))\n",
        "    print('------')"
      ],
      "execution_count": 9,
      "outputs": [
        {
          "output_type": "stream",
          "text": [
            "Eşik değeri: 1\n",
            "Aykırı değerlerin sayısı: 150\n",
            "------\n",
            "Eşik değeri: 2\n",
            "Aykırı değerlerin sayısı: 66\n",
            "------\n",
            "Eşik değeri: 3\n",
            "Aykırı değerlerin sayısı: 42\n",
            "------\n",
            "Eşik değeri: 4\n",
            "Aykırı değerlerin sayısı: 33\n",
            "------\n"
          ],
          "name": "stdout"
        }
      ]
    },
    {
      "cell_type": "code",
      "metadata": {
        "id": "-ZhQ9lMxTm35",
        "colab_type": "code",
        "colab": {
          "base_uri": "https://localhost:8080/",
          "height": 235
        },
        "outputId": "0538e6c6-53c8-4f24-8589-b797212544f9"
      },
      "source": [
        "from scipy.stats import zscore\n",
        "\n",
        "z_scores = zscore(statesData[\"TOTAL_EXPENDITURE\"])\n",
        "for threshold in range(1,5):\n",
        "    print(\"Eşik değeri: {}\".format(threshold))\n",
        "    print(\"Aykırı değerlerin sayısı: {}\".format(len((np.where(z_scores > threshold)[0]))))\n",
        "    print('------')"
      ],
      "execution_count": 10,
      "outputs": [
        {
          "output_type": "stream",
          "text": [
            "Eşik değeri: 1\n",
            "Aykırı değerlerin sayısı: 150\n",
            "------\n",
            "Eşik değeri: 2\n",
            "Aykırı değerlerin sayısı: 62\n",
            "------\n",
            "Eşik değeri: 3\n",
            "Aykırı değerlerin sayısı: 44\n",
            "------\n",
            "Eşik değeri: 4\n",
            "Aykırı değerlerin sayısı: 33\n",
            "------\n"
          ],
          "name": "stdout"
        }
      ]
    },
    {
      "cell_type": "code",
      "metadata": {
        "id": "US2SCLnWjwex",
        "colab_type": "code",
        "colab": {}
      },
      "source": [
        "q75, q25 = np.percentile(statesData[\"TOTAL_REVENUE\"], [75 ,25])\n",
        "caa = q75 - q25"
      ],
      "execution_count": 0,
      "outputs": []
    },
    {
      "cell_type": "code",
      "metadata": {
        "id": "jP1wci7nj6Zx",
        "colab_type": "code",
        "outputId": "9cea93ae-8e34-45fd-e0e7-cac1913a41c6",
        "colab": {
          "base_uri": "https://localhost:8080/",
          "height": 225
        }
      },
      "source": [
        "\n",
        "for esik_degeri in np.arange(1,5,0.5):\n",
        "   \n",
        "    min_deger = q25 - (caa*esik_degeri) #log dönüşümü olmadan\n",
        "    maks_deger = q75 + (caa*esik_degeri) #log dönüşümü olmadan\n",
        "    \n",
        "    aykiri_deger_sayisi = len((np.where((statesData[\"TOTAL_REVENUE\"] > maks_deger)| \n",
        "                                       (statesData[\"TOTAL_REVENUE\"] < min_deger))[0]))\n",
        "    \n",
        "    esik_degerleri = esik_degerleri.append({'esik_degeri': esik_degeri,'aykiri_deger_sayısı': aykiri_deger_sayisi}, \n",
        "                                           ignore_index=True)\n",
        "esik_degerleri"
      ],
      "execution_count": 0,
      "outputs": [
        {
          "output_type": "error",
          "ename": "TypeError",
          "evalue": "ignored",
          "traceback": [
            "\u001b[0;31m---------------------------------------------------------------------------\u001b[0m",
            "\u001b[0;31mTypeError\u001b[0m                                 Traceback (most recent call last)",
            "\u001b[0;32m<ipython-input-33-14dca8df6e82>\u001b[0m in \u001b[0;36m<module>\u001b[0;34m()\u001b[0m\n\u001b[1;32m      9\u001b[0m \u001b[0;34m\u001b[0m\u001b[0m\n\u001b[1;32m     10\u001b[0m     esik_degerleri = esik_degerleri.append({'esik_degeri': esik_degeri,'aykiri_deger_sayısı': aykiri_deger_sayisi}, \n\u001b[0;32m---> 11\u001b[0;31m                                            ignore_index=True)\n\u001b[0m\u001b[1;32m     12\u001b[0m \u001b[0mesik_degerleri\u001b[0m\u001b[0;34m\u001b[0m\u001b[0;34m\u001b[0m\u001b[0m\n",
            "\u001b[0;31mTypeError\u001b[0m: append() takes no keyword arguments"
          ]
        }
      ]
    },
    {
      "cell_type": "markdown",
      "metadata": {
        "id": "WzpgnOqZXQVG",
        "colab_type": "text"
      },
      "source": [
        "3.)Toplam gelir (TOTAL_REVENUE) değişkeninden, toplam harcama (TOTAL_EXPENDITURE) değerini çıkartarak bütçe açığı olarak düşünülebilecek bir değişken oluşturun (aykırı değerleri temezlemeden). Bu yeni değişkende de aykırı değerler yer almakta mı? Varsa bu aykırı değerleri de temizleyin."
      ]
    },
    {
      "cell_type": "code",
      "metadata": {
        "id": "rfCy2F6WokDS",
        "colab_type": "code",
        "outputId": "4d2f0b7c-e461-463d-fe70-6bd7a228fc97",
        "colab": {
          "base_uri": "https://localhost:8080/",
          "height": 235
        }
      },
      "source": [
        "statesData[\"acik\"]= statesData[\"TOTAL_REVENUE\"]-statesData[\"TOTAL_EXPENDITURE\"]\n",
        "statesData[\"acik\"]"
      ],
      "execution_count": 11,
      "outputs": [
        {
          "output_type": "execute_result",
          "data": {
            "text/plain": [
              "0        25087.000000\n",
              "1        77103.000000\n",
              "2      -143501.000000\n",
              "3       -31063.000000\n",
              "4      -878807.000000\n",
              "            ...      \n",
              "1710   -104197.192157\n",
              "1711   -104197.192157\n",
              "1712   -104197.192157\n",
              "1713   -104197.192157\n",
              "1714   -104197.192157\n",
              "Name: acik, Length: 1715, dtype: float64"
            ]
          },
          "metadata": {
            "tags": []
          },
          "execution_count": 11
        }
      ]
    },
    {
      "cell_type": "code",
      "metadata": {
        "id": "kK996yDUUqWC",
        "colab_type": "code",
        "colab": {
          "base_uri": "https://localhost:8080/",
          "height": 617
        },
        "outputId": "63053814-6ead-4b95-9194-e4e4f536040a"
      },
      "source": [
        "statesData.info()"
      ],
      "execution_count": 14,
      "outputs": [
        {
          "output_type": "stream",
          "text": [
            "<class 'pandas.core.frame.DataFrame'>\n",
            "RangeIndex: 1715 entries, 0 to 1714\n",
            "Data columns (total 26 columns):\n",
            " #   Column                        Non-Null Count  Dtype  \n",
            "---  ------                        --------------  -----  \n",
            " 0   PRIMARY_KEY                   1715 non-null   object \n",
            " 1   STATE                         1715 non-null   object \n",
            " 2   YEAR                          1715 non-null   int64  \n",
            " 3   ENROLL                        1224 non-null   float64\n",
            " 4   TOTAL_REVENUE                 1715 non-null   float64\n",
            " 5   FEDERAL_REVENUE               1715 non-null   float64\n",
            " 6   STATE_REVENUE                 1715 non-null   float64\n",
            " 7   LOCAL_REVENUE                 1715 non-null   float64\n",
            " 8   TOTAL_EXPENDITURE             1715 non-null   float64\n",
            " 9   INSTRUCTION_EXPENDITURE       1275 non-null   float64\n",
            " 10  SUPPORT_SERVICES_EXPENDITURE  1275 non-null   float64\n",
            " 11  OTHER_EXPENDITURE             1715 non-null   float64\n",
            " 12  CAPITAL_OUTLAY_EXPENDITURE    1715 non-null   float64\n",
            " 13  GRADES_PK_G                   1715 non-null   float64\n",
            " 14  GRADES_KG_G                   1715 non-null   float64\n",
            " 15  GRADES_4_G                    1715 non-null   float64\n",
            " 16  GRADES_8_G                    1715 non-null   float64\n",
            " 17  GRADES_12_G                   1715 non-null   float64\n",
            " 18  GRADES_1_8_G                  1715 non-null   float64\n",
            " 19  GRADES_9_12_G                 1715 non-null   float64\n",
            " 20  GRADES_ALL_G                  1715 non-null   float64\n",
            " 21  AVG_MATH_4_SCORE              1715 non-null   float64\n",
            " 22  AVG_MATH_8_SCORE              1715 non-null   float64\n",
            " 23  AVG_READING_4_SCORE           1715 non-null   float64\n",
            " 24  AVG_READING_8_SCORE           1715 non-null   float64\n",
            " 25  acik                          1715 non-null   float64\n",
            "dtypes: float64(23), int64(1), object(2)\n",
            "memory usage: 348.5+ KB\n"
          ],
          "name": "stdout"
        }
      ]
    },
    {
      "cell_type": "code",
      "metadata": {
        "id": "7PWIpLs1U_4r",
        "colab_type": "code",
        "colab": {
          "base_uri": "https://localhost:8080/",
          "height": 281
        },
        "outputId": "9b910327-25bc-4b01-89a7-2568c0e6629a"
      },
      "source": [
        "plt.boxplot(statesData[\"acik\"], whis=10 )\n",
        "baslik_font = {'family': 'arial', 'color': 'darkred','weight': 'bold','size': 13 }\n",
        "eksen_font  = {'family': 'arial', 'color': 'darkblue','weight': 'bold','size': 10 }\n",
        "plt.title(\"acik kutu grafiği (whis=10)\", fontdict=baslik_font)\n",
        "plt.show()"
      ],
      "execution_count": 15,
      "outputs": [
        {
          "output_type": "display_data",
          "data": {
            "image/png": "[encoded data removed]",
            "text/plain": [
              "<Figure size 432x288 with 1 Axes>"
            ]
          },
          "metadata": {
            "tags": [],
            "needs_background": "light"
          }
        }
      ]
    },
    {
      "cell_type": "code",
      "metadata": {
        "id": "PsXrj6mXVAEj",
        "colab_type": "code",
        "colab": {
          "base_uri": "https://localhost:8080/",
          "height": 294
        },
        "outputId": "89139cab-cd08-4e4f-d6e0-78e70990333d"
      },
      "source": [
        "plt.hist(statesData[\"acik\"])\n",
        "plt.title(\"acik histogramı\", fontdict=baslik_font)\n",
        "plt.show()"
      ],
      "execution_count": 16,
      "outputs": [
        {
          "output_type": "display_data",
          "data": {
            "image/png": "[encoded data removed]",
            "text/plain": [
              "<Figure size 432x288 with 1 Axes>"
            ]
          },
          "metadata": {
            "tags": [],
            "needs_background": "light"
          }
        }
      ]
    },
    {
      "cell_type": "markdown",
      "metadata": {
        "id": "s1BR3g2rXY0J",
        "colab_type": "text"
      },
      "source": [
        "4.)Yine toplam gelir (TOTAL_REVENUE) değişkeninden, toplam harcama(TOTAL_EXPENDITURE) değerini çıkartarak bütçe açığı olarak düşünülebilecek bir değişken oluşturun. Fakat bu sefer aykırı değerleri temezledikten sonra bu işlemi yapın. Bu yeni değişkende de aykırı değerler var mı? Varsa bunları da temizlemekte fayda var."
      ]
    },
    {
      "cell_type": "code",
      "metadata": {
        "id": "cGd8abdcVi0D",
        "colab_type": "code",
        "colab": {
          "base_uri": "https://localhost:8080/",
          "height": 108
        },
        "outputId": "988c3067-8e98-4f5c-e710-34c08d1d130e"
      },
      "source": [
        "from scipy.stats.mstats import winsorize\n",
        "\n",
        "winsorize_acik = winsorize(statesData[\"acik\"], (0.15, 0.15))\n",
        "\n",
        "winsorize_acik"
      ],
      "execution_count": 33,
      "outputs": [
        {
          "output_type": "execute_result",
          "data": {
            "text/plain": [
              "masked_array(data=[  25087.        ,   77103.        , -143501.        ,\n",
              "                   ..., -104197.19215686, -104197.19215686,\n",
              "                   -104197.19215686],\n",
              "             mask=False,\n",
              "       fill_value=1e+20)"
            ]
          },
          "metadata": {
            "tags": []
          },
          "execution_count": 33
        }
      ]
    },
    {
      "cell_type": "code",
      "metadata": {
        "id": "opmO_rsuVrCN",
        "colab_type": "code",
        "colab": {
          "base_uri": "https://localhost:8080/",
          "height": 281
        },
        "outputId": "3634ea2c-4634-451a-83e4-0f058c971a76"
      },
      "source": [
        "plt.boxplot(winsorize_acik)\n",
        "plt.title(\"acik kutu grafiği (whis=15)\", fontdict=baslik_font)\n",
        "plt.show()"
      ],
      "execution_count": 35,
      "outputs": [
        {
          "output_type": "display_data",
          "data": {
            "image/png": "[encoded data removed]",
            "text/plain": [
              "<Figure size 432x288 with 1 Axes>"
            ]
          },
          "metadata": {
            "tags": [],
            "needs_background": "light"
          }
        }
      ]
    },
    {
      "cell_type": "code",
      "metadata": {
        "id": "7JmzjZ2lY-kT",
        "colab_type": "code",
        "colab": {
          "base_uri": "https://localhost:8080/",
          "height": 390
        },
        "outputId": "d694d83d-6b94-4182-c4d8-44243c3a47c9"
      },
      "source": [
        "plt.subplot(1,2,2)\n",
        "plt.hist(np.log(statesData[\"acik\"]))\n",
        "plt.title(\"acik (log dönüşümlü)\", fontdict=baslik_font)\n",
        "plt.show()"
      ],
      "execution_count": 36,
      "outputs": [
        {
          "output_type": "stream",
          "text": [
            "/usr/local/lib/python3.6/dist-packages/pandas/core/series.py:679: RuntimeWarning: invalid value encountered in log\n",
            "  result = getattr(ufunc, method)(*inputs, **kwargs)\n",
            "/usr/local/lib/python3.6/dist-packages/numpy/lib/histograms.py:839: RuntimeWarning: invalid value encountered in greater_equal\n",
            "  keep = (tmp_a >= first_edge)\n",
            "/usr/local/lib/python3.6/dist-packages/numpy/lib/histograms.py:840: RuntimeWarning: invalid value encountered in less_equal\n",
            "  keep &= (tmp_a <= last_edge)\n"
          ],
          "name": "stderr"
        },
        {
          "output_type": "display_data",
          "data": {
            "image/png": "[encoded data removed]",
            "text/plain": [
              "<Figure size 432x288 with 1 Axes>"
            ]
          },
          "metadata": {
            "tags": [],
            "needs_background": "light"
          }
        }
      ]
    },
    {
      "cell_type": "markdown",
      "metadata": {
        "id": "CXFDwiXtZsgO",
        "colab_type": "text"
      },
      "source": [
        "4.) Yine toplam gelir (TOTAL_REVENUE) değişkeninden, toplam harcama(TOTAL_EXPENDITURE) değerini çıkartarak bütçe açığı olarak düşünülebilecek bir değişken oluşturun. Fakat bu sefer aykırı değerleri temezledikten sonra bu işlemi yapın. Bu yeni değişkende de aykırı değerler var mı? Varsa bunları da temizlemekte fayda var."
      ]
    },
    {
      "cell_type": "code",
      "metadata": {
        "id": "DsY8Ljjokxi9",
        "colab_type": "code",
        "outputId": "3c628895-3c97-4f20-9b5b-f402d47ed13c",
        "colab": {
          "base_uri": "https://localhost:8080/",
          "height": 108
        }
      },
      "source": [
        "from scipy.stats.mstats import winsorize\n",
        "\n",
        "winsorize_revenue = winsorize(statesData[\"TOTAL_REVENUE\"], (0, 0.10))\n",
        "\n",
        "winsorize_revenue"
      ],
      "execution_count": 45,
      "outputs": [
        {
          "output_type": "execute_result",
          "data": {
            "text/plain": [
              "masked_array(data=[2678885.        , 1049591.        , 3258079.        ,\n",
              "                   ..., 9102044.92941177, 9102044.92941177,\n",
              "                   9102044.92941177],\n",
              "             mask=False,\n",
              "       fill_value=1e+20)"
            ]
          },
          "metadata": {
            "tags": []
          },
          "execution_count": 45
        }
      ]
    },
    {
      "cell_type": "code",
      "metadata": {
        "id": "7OayiTggodHU",
        "colab_type": "code",
        "outputId": "8f11d3cd-3b86-4673-826c-cea96cbc6a94",
        "colab": {
          "base_uri": "https://localhost:8080/",
          "height": 281
        }
      },
      "source": [
        "plt.boxplot(winsorize_revenue)\n",
        "plt.title(\"winsorize_revenue kutu grafiği (whis=1.5)\", fontdict=baslik_font)\n",
        "plt.show()"
      ],
      "execution_count": 46,
      "outputs": [
        {
          "output_type": "display_data",
          "data": {
            "image/png": "[encoded data removed]",
            "text/plain": [
              "<Figure size 432x288 with 1 Axes>"
            ]
          },
          "metadata": {
            "tags": [],
            "needs_background": "light"
          }
        }
      ]
    },
    {
      "cell_type": "code",
      "metadata": {
        "id": "OHy-Arl2o38b",
        "colab_type": "code",
        "outputId": "9110959e-0313-4fee-e880-d1e6510de6a7",
        "colab": {
          "base_uri": "https://localhost:8080/",
          "height": 108
        }
      },
      "source": [
        "from scipy.stats.mstats import winsorize\n",
        "\n",
        "winsorize_exp = winsorize(statesData[\"TOTAL_EXPENDITURE\"], (0, 0.10))\n",
        "\n",
        "winsorize_exp"
      ],
      "execution_count": 47,
      "outputs": [
        {
          "output_type": "execute_result",
          "data": {
            "text/plain": [
              "masked_array(data=[2653798.        ,  972488.        , 3401580.        ,\n",
              "                   ..., 9206242.12156863, 9206242.12156863,\n",
              "                   9206242.12156863],\n",
              "             mask=False,\n",
              "       fill_value=1e+20)"
            ]
          },
          "metadata": {
            "tags": []
          },
          "execution_count": 47
        }
      ]
    },
    {
      "cell_type": "code",
      "metadata": {
        "id": "LfUNXbz1pbGx",
        "colab_type": "code",
        "outputId": "7f046df7-cdca-4479-fd75-d6008c05dc5a",
        "colab": {
          "base_uri": "https://localhost:8080/",
          "height": 281
        }
      },
      "source": [
        "plt.boxplot(winsorize_exp)\n",
        "plt.title(\"winsorize_exp kutu grafiği (whis=1.5)\", fontdict=baslik_font)\n",
        "plt.show()"
      ],
      "execution_count": 48,
      "outputs": [
        {
          "output_type": "display_data",
          "data": {
            "image/png": "[encoded data removed]",
            "text/plain": [
              "<Figure size 432x288 with 1 Axes>"
            ]
          },
          "metadata": {
            "tags": [],
            "needs_background": "light"
          }
        }
      ]
    },
    {
      "cell_type": "code",
      "metadata": {
        "id": "Y5xHJyj2piTh",
        "colab_type": "code",
        "colab": {
          "base_uri": "https://localhost:8080/",
          "height": 349
        },
        "outputId": "118bd469-eea9-4f33-937e-2f77e549a79d"
      },
      "source": [
        "plt.figure(figsize = (15,5))\n",
        "\n",
        "plt.subplot(1,2,1)\n",
        "plt.hist(statesData[\"TOTAL_REVENUE\"])\n",
        "plt.title(\"TOTAL_REVENUE \", fontdict=baslik_font)\n",
        "\n",
        "plt.subplot(1,2,2)\n",
        "plt.hist(np.log(statesData[\"TOTAL_REVENUE\"]))\n",
        "plt.title(\"TOTAL_REVENUE (log dönüşümlü)\", fontdict=baslik_font)\n",
        "plt.show()"
      ],
      "execution_count": 49,
      "outputs": [
        {
          "output_type": "display_data",
          "data": {
            "image/png": "[encoded data removed]",
            "text/plain": [
              "<Figure size 1080x360 with 2 Axes>"
            ]
          },
          "metadata": {
            "tags": [],
            "needs_background": "light"
          }
        }
      ]
    },
    {
      "cell_type": "code",
      "metadata": {
        "id": "74SrK6bTXkyP",
        "colab_type": "code",
        "colab": {
          "base_uri": "https://localhost:8080/",
          "height": 336
        },
        "outputId": "397bf8de-d4c7-4351-ca35-67261cfd02e3"
      },
      "source": [
        "plt.figure(figsize = (15,5))\n",
        "\n",
        "plt.subplot(1,2,1)\n",
        "plt.boxplot(statesData[\"TOTAL_REVENUE\"])\n",
        "plt.title(\"TOTAL_REVENUE\", fontdict=baslik_font)\n",
        "\n",
        "plt.subplot(1,2,2)\n",
        "plt.boxplot(np.log(statesData[\"TOTAL_REVENUE\"]))\n",
        "plt.title(\"TOTAL_REVENUE (log dönüşümlü)\", fontdict=baslik_font)\n",
        "plt.show()"
      ],
      "execution_count": 50,
      "outputs": [
        {
          "output_type": "display_data",
          "data": {
            "image/png": "[encoded data removed]",
            "text/plain": [
              "<Figure size 1080x360 with 2 Axes>"
            ]
          },
          "metadata": {
            "tags": [],
            "needs_background": "light"
          }
        }
      ]
    },
    {
      "cell_type": "code",
      "metadata": {
        "id": "dqL6aS-Ba4Mz",
        "colab_type": "code",
        "colab": {}
      },
      "source": [
        "q75_log, q25_log = np.percentile(np.log(statesData[\"TOTAL_REVENUE\"]), [75 ,25])\n",
        "caa_log = q75_log - q25_log\n",
        "q75, q25 = np.percentile(statesData[\"TOTAL_REVENUE\"], [75 ,25])\n",
        "caa = q75 - q25"
      ],
      "execution_count": 0,
      "outputs": []
    },
    {
      "cell_type": "code",
      "metadata": {
        "id": "Ol8wu6UYbWmN",
        "colab_type": "code",
        "colab": {
          "base_uri": "https://localhost:8080/",
          "height": 288
        },
        "outputId": "2845b766-b202-41f7-814d-b951faaeaee3"
      },
      "source": [
        "log_esik_degerleri = pd.DataFrame(columns=['esik_degeri', 'aykiri_deger_sayisi', 'aykiri_deger_sayisi_log'])\n",
        "\n",
        "for esik_degeri in np.arange(1,5,0.5):\n",
        "    min_deger_log = q25_log - (caa_log*esik_degeri) \n",
        "    maks_deger_log = q75_log + (caa_log*esik_degeri)\n",
        "    min_deger = q25 - (caa*esik_degeri) #log dönüşümü olmadan\n",
        "    maks_deger = q75 + (caa*esik_degeri) #log dönüşümü olmadan\n",
        "    \n",
        "    aykiri_deger_sayisi_log = len((np.where((np.log(statesData[\"TOTAL_REVENUE\"]) > maks_deger_log)| \n",
        "                                       (np.log(statesData[\"TOTAL_REVENUE\"]) < min_deger_log))[0]))\n",
        "    aykiri_deger_sayisi = len((np.where((statesData[\"TOTAL_REVENUE\"] > maks_deger)| \n",
        "                                       (statesData[\"TOTAL_REVENUE\"] < min_deger))[0]))\n",
        "    log_esik_degerleri = log_esik_degerleri.append({'esik_degeri': esik_degeri,\n",
        "                                                    'aykiri_deger_sayisi' : aykiri_deger_sayisi, #log dönüşümü olmadan\n",
        "                                                    'aykiri_deger_sayisi_log': aykiri_deger_sayisi_log \n",
        "                                                    }, ignore_index=True)\n",
        "log_esik_degerleri"
      ],
      "execution_count": 52,
      "outputs": [
        {
          "output_type": "execute_result",
          "data": {
            "text/html": [
              "<div>\n",
              "<style scoped>\n",
              "    .dataframe tbody tr th:only-of-type {\n",
              "        vertical-align: middle;\n",
              "    }\n",
              "\n",
              "    .dataframe tbody tr th {\n",
              "        vertical-align: top;\n",
              "    }\n",
              "\n",
              "    .dataframe thead th {\n",
              "        text-align: right;\n",
              "    }\n",
              "</style>\n",
              "<table border=\"1\" class=\"dataframe\">\n",
              "  <thead>\n",
              "    <tr style=\"text-align: right;\">\n",
              "      <th></th>\n",
              "      <th>esik_degeri</th>\n",
              "      <th>aykiri_deger_sayisi</th>\n",
              "      <th>aykiri_deger_sayisi_log</th>\n",
              "    </tr>\n",
              "  </thead>\n",
              "  <tbody>\n",
              "    <tr>\n",
              "      <th>0</th>\n",
              "      <td>1.0</td>\n",
              "      <td>208.0</td>\n",
              "      <td>151.0</td>\n",
              "    </tr>\n",
              "    <tr>\n",
              "      <th>1</th>\n",
              "      <td>1.5</td>\n",
              "      <td>165.0</td>\n",
              "      <td>37.0</td>\n",
              "    </tr>\n",
              "    <tr>\n",
              "      <th>2</th>\n",
              "      <td>2.0</td>\n",
              "      <td>131.0</td>\n",
              "      <td>1.0</td>\n",
              "    </tr>\n",
              "    <tr>\n",
              "      <th>3</th>\n",
              "      <td>2.5</td>\n",
              "      <td>105.0</td>\n",
              "      <td>0.0</td>\n",
              "    </tr>\n",
              "    <tr>\n",
              "      <th>4</th>\n",
              "      <td>3.0</td>\n",
              "      <td>81.0</td>\n",
              "      <td>0.0</td>\n",
              "    </tr>\n",
              "    <tr>\n",
              "      <th>5</th>\n",
              "      <td>3.5</td>\n",
              "      <td>58.0</td>\n",
              "      <td>0.0</td>\n",
              "    </tr>\n",
              "    <tr>\n",
              "      <th>6</th>\n",
              "      <td>4.0</td>\n",
              "      <td>50.0</td>\n",
              "      <td>0.0</td>\n",
              "    </tr>\n",
              "    <tr>\n",
              "      <th>7</th>\n",
              "      <td>4.5</td>\n",
              "      <td>45.0</td>\n",
              "      <td>0.0</td>\n",
              "    </tr>\n",
              "  </tbody>\n",
              "</table>\n",
              "</div>"
            ],
            "text/plain": [
              "   esik_degeri  aykiri_deger_sayisi  aykiri_deger_sayisi_log\n",
              "0          1.0                208.0                    151.0\n",
              "1          1.5                165.0                     37.0\n",
              "2          2.0                131.0                      1.0\n",
              "3          2.5                105.0                      0.0\n",
              "4          3.0                 81.0                      0.0\n",
              "5          3.5                 58.0                      0.0\n",
              "6          4.0                 50.0                      0.0\n",
              "7          4.5                 45.0                      0.0"
            ]
          },
          "metadata": {
            "tags": []
          },
          "execution_count": 52
        }
      ]
    },
    {
      "cell_type": "code",
      "metadata": {
        "id": "26rp3g4hbmh4",
        "colab_type": "code",
        "colab": {
          "base_uri": "https://localhost:8080/",
          "height": 635
        },
        "outputId": "d80d0e4f-3836-4952-db4b-3bfe17f5f0c0"
      },
      "source": [
        "winsorize_acik = winsorize_revenue-winsorize_exp\n",
        "statesData[\"wins_acik\"]=winsorize_acik\n",
        "statesData.info()"
      ],
      "execution_count": 58,
      "outputs": [
        {
          "output_type": "stream",
          "text": [
            "<class 'pandas.core.frame.DataFrame'>\n",
            "RangeIndex: 1715 entries, 0 to 1714\n",
            "Data columns (total 27 columns):\n",
            " #   Column                        Non-Null Count  Dtype  \n",
            "---  ------                        --------------  -----  \n",
            " 0   PRIMARY_KEY                   1715 non-null   object \n",
            " 1   STATE                         1715 non-null   object \n",
            " 2   YEAR                          1715 non-null   int64  \n",
            " 3   ENROLL                        1224 non-null   float64\n",
            " 4   TOTAL_REVENUE                 1715 non-null   float64\n",
            " 5   FEDERAL_REVENUE               1715 non-null   float64\n",
            " 6   STATE_REVENUE                 1715 non-null   float64\n",
            " 7   LOCAL_REVENUE                 1715 non-null   float64\n",
            " 8   TOTAL_EXPENDITURE             1715 non-null   float64\n",
            " 9   INSTRUCTION_EXPENDITURE       1275 non-null   float64\n",
            " 10  SUPPORT_SERVICES_EXPENDITURE  1275 non-null   float64\n",
            " 11  OTHER_EXPENDITURE             1715 non-null   float64\n",
            " 12  CAPITAL_OUTLAY_EXPENDITURE    1715 non-null   float64\n",
            " 13  GRADES_PK_G                   1715 non-null   float64\n",
            " 14  GRADES_KG_G                   1715 non-null   float64\n",
            " 15  GRADES_4_G                    1715 non-null   float64\n",
            " 16  GRADES_8_G                    1715 non-null   float64\n",
            " 17  GRADES_12_G                   1715 non-null   float64\n",
            " 18  GRADES_1_8_G                  1715 non-null   float64\n",
            " 19  GRADES_9_12_G                 1715 non-null   float64\n",
            " 20  GRADES_ALL_G                  1715 non-null   float64\n",
            " 21  AVG_MATH_4_SCORE              1715 non-null   float64\n",
            " 22  AVG_MATH_8_SCORE              1715 non-null   float64\n",
            " 23  AVG_READING_4_SCORE           1715 non-null   float64\n",
            " 24  AVG_READING_8_SCORE           1715 non-null   float64\n",
            " 25  acik                          1715 non-null   float64\n",
            " 26  wins_acik                     1715 non-null   float64\n",
            "dtypes: float64(24), int64(1), object(2)\n",
            "memory usage: 361.9+ KB\n"
          ],
          "name": "stdout"
        }
      ]
    },
    {
      "cell_type": "code",
      "metadata": {
        "id": "Yr1SjKfWi6Uc",
        "colab_type": "code",
        "colab": {
          "base_uri": "https://localhost:8080/",
          "height": 349
        },
        "outputId": "17095ad3-bc15-4343-de07-dd22cdb399eb"
      },
      "source": [
        "plt.figure(figsize = (15,5))\n",
        "\n",
        "plt.subplot(1,2,1)\n",
        "plt.hist(statesData[\"acik\"])\n",
        "plt.title(\"acik \", fontdict=baslik_font)\n",
        "\n",
        "plt.subplot(1,2,2)\n",
        "plt.hist(statesData[\"wins_acik\"])\n",
        "plt.title(\"wins_acik (log dönüşümlü)\", fontdict=baslik_font)\n",
        "plt.show()"
      ],
      "execution_count": 62,
      "outputs": [
        {
          "output_type": "display_data",
          "data": {
            "image/png": "[encoded data removed]",
            "text/plain": [
              "<Figure size 1080x360 with 2 Axes>"
            ]
          },
          "metadata": {
            "tags": [],
            "needs_background": "light"
          }
        }
      ]
    },
    {
      "cell_type": "code",
      "metadata": {
        "id": "z6AJ27PwjysG",
        "colab_type": "code",
        "colab": {}
      },
      "source": [
        ""
      ],
      "execution_count": 0,
      "outputs": []
    }
  ]
}