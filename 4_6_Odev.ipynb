{
  "nbformat": 4,
  "nbformat_minor": 0,
  "metadata": {
    "colab": {
      "name": "4_6_Odev.ipynb",
      "provenance": [],
      "collapsed_sections": [],
      "authorship_tag": "ABX9TyMBUr5D+YZ6nQ/59T88Y5RI",
      "include_colab_link": true
    },
    "kernelspec": {
      "name": "python3",
      "display_name": "Python 3"
    }
  },
  "cells": [
    {
      "cell_type": "markdown",
      "metadata": {
        "id": "view-in-github",
        "colab_type": "text"
      },
      "source": [
        "<a href=\"https://colab.research.google.com/github/KaanErdogdu/Bootcamp_Bolum_1/blob/master/4_6_Odev.ipynb\" target=\"_parent\"><img src=\"https://colab.research.google.com/assets/colab-badge.svg\" alt=\"Open In Colab\"/></a>"
      ]
    },
    {
      "cell_type": "code",
      "metadata": {
        "id": "16BzWTAywjbd",
        "colab_type": "code",
        "outputId": "57a170c6-71b9-48e4-b3ea-7145c6171afa",
        "colab": {
          "base_uri": "https://localhost:8080/",
          "height": 70
        }
      },
      "source": [
        "import matplotlib.pyplot as plt\n",
        "import seaborn as sns\n",
        "import numpy as np\n",
        "import pandas as pd\n",
        "import seaborn as sns\n",
        "import scipy.stats as stats\n",
        "from scipy.stats.mstats import winsorize\n",
        "from sqlalchemy import create_engine\n",
        "import warnings\n",
        "\n",
        "warnings.filterwarnings('ignore')\n",
        "sns.set(style=\"whitegrid\")\n",
        "pd.options.display.float_format = '{:.3f}'.format\n",
        "plt.rcParams['figure.dpi'] = 100\n",
        "plt.rcParams['figure.figsize'] = (8,5.5)\n"
      ],
      "execution_count": 0,
      "outputs": [
        {
          "output_type": "stream",
          "text": [
            "/usr/local/lib/python3.6/dist-packages/statsmodels/tools/_testing.py:19: FutureWarning: pandas.util.testing is deprecated. Use the functions in the public API at pandas.testing instead.\n",
            "  import pandas.util.testing as tm\n"
          ],
          "name": "stderr"
        }
      ]
    },
    {
      "cell_type": "code",
      "metadata": {
        "id": "AMjlFaLOxwSQ",
        "colab_type": "code",
        "outputId": "4cff40d4-e70a-46f1-e8cc-e4659cfa35ea",
        "colab": {
          "base_uri": "https://localhost:8080/",
          "height": 195
        }
      },
      "source": [
        "ogrenciler = pd.read_csv(\"StudentsPerformance.csv\")\n",
        "ogrenciler.columns = ['cinsiyet', 'koken', 'aile_egt_seviyesi', 'ogle_yemegi', \n",
        "                              'hazirlik_kursu', 'matematik_notu', 'okuma_notu', 'yazma_notu']\n",
        "ogrenciler.head()"
      ],
      "execution_count": 0,
      "outputs": [
        {
          "output_type": "execute_result",
          "data": {
            "text/html": [
              "<div>\n",
              "<style scoped>\n",
              "    .dataframe tbody tr th:only-of-type {\n",
              "        vertical-align: middle;\n",
              "    }\n",
              "\n",
              "    .dataframe tbody tr th {\n",
              "        vertical-align: top;\n",
              "    }\n",
              "\n",
              "    .dataframe thead th {\n",
              "        text-align: right;\n",
              "    }\n",
              "</style>\n",
              "<table border=\"1\" class=\"dataframe\">\n",
              "  <thead>\n",
              "    <tr style=\"text-align: right;\">\n",
              "      <th></th>\n",
              "      <th>cinsiyet</th>\n",
              "      <th>koken</th>\n",
              "      <th>aile_egt_seviyesi</th>\n",
              "      <th>ogle_yemegi</th>\n",
              "      <th>hazirlik_kursu</th>\n",
              "      <th>matematik_notu</th>\n",
              "      <th>okuma_notu</th>\n",
              "      <th>yazma_notu</th>\n",
              "    </tr>\n",
              "  </thead>\n",
              "  <tbody>\n",
              "    <tr>\n",
              "      <th>0</th>\n",
              "      <td>female</td>\n",
              "      <td>group B</td>\n",
              "      <td>bachelor's degree</td>\n",
              "      <td>standard</td>\n",
              "      <td>none</td>\n",
              "      <td>72</td>\n",
              "      <td>72</td>\n",
              "      <td>74</td>\n",
              "    </tr>\n",
              "    <tr>\n",
              "      <th>1</th>\n",
              "      <td>female</td>\n",
              "      <td>group C</td>\n",
              "      <td>some college</td>\n",
              "      <td>standard</td>\n",
              "      <td>completed</td>\n",
              "      <td>69</td>\n",
              "      <td>90</td>\n",
              "      <td>88</td>\n",
              "    </tr>\n",
              "    <tr>\n",
              "      <th>2</th>\n",
              "      <td>female</td>\n",
              "      <td>group B</td>\n",
              "      <td>master's degree</td>\n",
              "      <td>standard</td>\n",
              "      <td>none</td>\n",
              "      <td>90</td>\n",
              "      <td>95</td>\n",
              "      <td>93</td>\n",
              "    </tr>\n",
              "    <tr>\n",
              "      <th>3</th>\n",
              "      <td>male</td>\n",
              "      <td>group A</td>\n",
              "      <td>associate's degree</td>\n",
              "      <td>free/reduced</td>\n",
              "      <td>none</td>\n",
              "      <td>47</td>\n",
              "      <td>57</td>\n",
              "      <td>44</td>\n",
              "    </tr>\n",
              "    <tr>\n",
              "      <th>4</th>\n",
              "      <td>male</td>\n",
              "      <td>group C</td>\n",
              "      <td>some college</td>\n",
              "      <td>standard</td>\n",
              "      <td>none</td>\n",
              "      <td>76</td>\n",
              "      <td>78</td>\n",
              "      <td>75</td>\n",
              "    </tr>\n",
              "  </tbody>\n",
              "</table>\n",
              "</div>"
            ],
            "text/plain": [
              "  cinsiyet    koken   aile_egt_seviyesi  ... matematik_notu okuma_notu  yazma_notu\n",
              "0   female  group B   bachelor's degree  ...             72         72          74\n",
              "1   female  group C        some college  ...             69         90          88\n",
              "2   female  group B     master's degree  ...             90         95          93\n",
              "3     male  group A  associate's degree  ...             47         57          44\n",
              "4     male  group C        some college  ...             76         78          75\n",
              "\n",
              "[5 rows x 8 columns]"
            ]
          },
          "metadata": {
            "tags": []
          },
          "execution_count": 8
        }
      ]
    },
    {
      "cell_type": "markdown",
      "metadata": {
        "id": "naseendQB6_P",
        "colab_type": "text"
      },
      "source": [
        "1.)Sınavlardaki performans cinsiyete, kökene ve anne-baba eğitim durumuna göre değişiklik göstermekte midir?\n"
      ]
    },
    {
      "cell_type": "code",
      "metadata": {
        "id": "_j7EBZ1-7mLk",
        "colab_type": "code",
        "outputId": "b3e476fb-7b4e-4724-9308-35d90acac6c6",
        "colab": {
          "base_uri": "https://localhost:8080/",
          "height": 355
        }
      },
      "source": [
        "plt.figure(figsize=(18,5))\n",
        "\n",
        "plt.subplot(1,3,1)\n",
        "sns.barplot(ogrenciler[\"cinsiyet\"], ogrenciler[\"matematik_notu\"])\n",
        "plt.title(\"matematik notu\", fontdict = baslik_font)\n",
        "\n",
        "plt.subplot(1,3,2)\n",
        "sns.barplot(ogrenciler[\"cinsiyet\"], ogrenciler[\"okuma_notu\"])\n",
        "plt.title(\"okuma notu\", fontdict = baslik_font)\n",
        "\n",
        "plt.subplot(1,3,3)\n",
        "# draw the heatmap using seaborn.\n",
        "sns.barplot(ogrenciler[\"cinsiyet\"], ogrenciler[\"yazma_notu\"])\n",
        "plt.title(\"yazma notu\", fontdict = baslik_font)\n",
        "\n",
        "plt.show()"
      ],
      "execution_count": 0,
      "outputs": [
        {
          "output_type": "display_data",
          "data": {
            "image/png": "[encoded data removed]",
            "text/plain": [
              "<Figure size 1296x360 with 3 Axes>"
            ]
          },
          "metadata": {
            "tags": [],
            "needs_background": "light"
          }
        }
      ]
    },
    {
      "cell_type": "code",
      "metadata": {
        "id": "3neWxDxI9k3u",
        "colab_type": "code",
        "outputId": "9754f424-6e13-4fe4-948c-e1d1447b261f",
        "colab": {
          "base_uri": "https://localhost:8080/",
          "height": 355
        }
      },
      "source": [
        "plt.figure(figsize=(18,5))\n",
        "\n",
        "plt.subplot(1,3,1)\n",
        "sns.barplot(ogrenciler[\"aile_egt_seviyesi\"], ogrenciler[\"matematik_notu\"])\n",
        "plt.title(\"matematik notu\", fontdict = baslik_font)\n",
        "\n",
        "plt.subplot(1,3,2)\n",
        "sns.barplot(ogrenciler[\"aile_egt_seviyesi\"], ogrenciler[\"okuma_notu\"])\n",
        "plt.title(\"okuma notu\", fontdict = baslik_font)\n",
        "\n",
        "plt.subplot(1,3,3)\n",
        "# draw the heatmap using seaborn.\n",
        "sns.barplot(ogrenciler[\"aile_egt_seviyesi\"], ogrenciler[\"yazma_notu\"])\n",
        "plt.title(\"yazma notu\", fontdict = baslik_font)\n",
        "\n",
        "plt.show()"
      ],
      "execution_count": 0,
      "outputs": [
        {
          "output_type": "display_data",
          "data": {
            "image/png": "[encoded data removed]",
            "text/plain": [
              "<Figure size 1296x360 with 3 Axes>"
            ]
          },
          "metadata": {
            "tags": [],
            "needs_background": "light"
          }
        }
      ]
    },
    {
      "cell_type": "code",
      "metadata": {
        "id": "vrmnyxPd9zVg",
        "colab_type": "code",
        "outputId": "0e867f65-7a14-4c6b-ee15-d4f25e9a09b2",
        "colab": {
          "base_uri": "https://localhost:8080/",
          "height": 355
        }
      },
      "source": [
        "plt.figure(figsize=(18,5))\n",
        "\n",
        "plt.subplot(1,3,1)\n",
        "sns.barplot(ogrenciler[\"koken\"], ogrenciler[\"matematik_notu\"])\n",
        "plt.title(\"matematik notu\", fontdict = baslik_font)\n",
        "\n",
        "plt.subplot(1,3,2)\n",
        "sns.barplot(ogrenciler[\"koken\"], ogrenciler[\"okuma_notu\"])\n",
        "plt.title(\"okuma notu\", fontdict = baslik_font)\n",
        "\n",
        "plt.subplot(1,3,3)\n",
        "# draw the heatmap using seaborn.\n",
        "sns.barplot(ogrenciler[\"koken\"], ogrenciler[\"yazma_notu\"])\n",
        "plt.title(\"yazma notu\", fontdict = baslik_font)\n",
        "\n",
        "plt.show()"
      ],
      "execution_count": 0,
      "outputs": [
        {
          "output_type": "display_data",
          "data": {
            "image/png": "[encoded data removed]",
            "text/plain": [
              "<Figure size 1296x360 with 3 Axes>"
            ]
          },
          "metadata": {
            "tags": [],
            "needs_background": "light"
          }
        }
      ]
    },
    {
      "cell_type": "code",
      "metadata": {
        "id": "tj8AWKl1_J-6",
        "colab_type": "code",
        "outputId": "43cbc39a-e87e-481a-8b89-36afea06553b",
        "colab": {
          "base_uri": "https://localhost:8080/",
          "height": 355
        }
      },
      "source": [
        "plt.figure(figsize=(18,5))\n",
        "\n",
        "plt.subplot(1,3,1)\n",
        "sns.barplot(ogrenciler[\"ogle_yemegi\"], ogrenciler[\"matematik_notu\"])\n",
        "plt.title(\"matematik notu\", fontdict = baslik_font)\n",
        "\n",
        "plt.subplot(1,3,2)\n",
        "sns.barplot(ogrenciler[\"ogle_yemegi\"], ogrenciler[\"okuma_notu\"])\n",
        "plt.title(\"okuma notu\", fontdict = baslik_font)\n",
        "\n",
        "plt.subplot(1,3,3)\n",
        "# draw the heatmap using seaborn.\n",
        "sns.barplot(ogrenciler[\"ogle_yemegi\"], ogrenciler[\"yazma_notu\"])\n",
        "plt.title(\"yazma notu\", fontdict = baslik_font)\n",
        "\n",
        "plt.show()"
      ],
      "execution_count": 0,
      "outputs": [
        {
          "output_type": "display_data",
          "data": {
            "image/png": "[encoded data removed]",
            "text/plain": [
              "<Figure size 1296x360 with 3 Axes>"
            ]
          },
          "metadata": {
            "tags": [],
            "needs_background": "light"
          }
        }
      ]
    },
    {
      "cell_type": "markdown",
      "metadata": {
        "id": "qKU3E65vCBBZ",
        "colab_type": "text"
      },
      "source": [
        "2.)Öğle yemek tipinin sınav performansları ile bir ilişkisi var mı? Varsa bunu nasıl açıklayabilirsiniz?\n",
        "\n"
      ]
    },
    {
      "cell_type": "code",
      "metadata": {
        "id": "rukMsCov_nwA",
        "colab_type": "code",
        "colab": {}
      },
      "source": [
        "# Test whether group differences are significant.\n",
        "dereceler = ogrenciler[\"ogle_yemegi\"].unique()\n",
        "grup_ogrenci = ogrenciler.groupby(\"ogle_yemegi\")"
      ],
      "execution_count": 0,
      "outputs": []
    },
    {
      "cell_type": "code",
      "metadata": {
        "id": "LCC08ZPX_aTj",
        "colab_type": "code",
        "outputId": "ef5ae63d-952c-4dc9-ec26-bebddeb14600",
        "colab": {
          "base_uri": "https://localhost:8080/",
          "height": 247
        }
      },
      "source": [
        "pd.options.display.float_format = '{:.15f}'.format\n",
        "for var in [\"matematik_notu\", \"okuma_notu\", \"yazma_notu\"]:\n",
        "    karsilastirma = pd.DataFrame(columns=['grup_1', 'grup_2','istatistik', 'p_degeri'])\n",
        "    print(\"{} için karşılaştırma\".format(var),end='')\n",
        "    for i in range(0, len(dereceler)):\n",
        "        for j in range(i+1, len(dereceler)):\n",
        "            ttest = stats.ttest_ind(ogrenciler[ogrenciler[\"ogle_yemegi\"]==dereceler[i]][var], \n",
        "                                ogrenciler[ogrenciler[\"ogle_yemegi\"]==dereceler[j]][var])\n",
        "            grup_1 = dereceler[i]\n",
        "            grup_2 = dereceler[j]\n",
        "            istatistik = ttest[0]\n",
        "            p_degeri = ttest[1]\n",
        "            \n",
        "            karsilastirma = karsilastirma.append({\"grup_1\" : grup_1 ,\n",
        "                                                  \"grup_2\" : grup_2 ,\n",
        "                                                  \"istatistik\": istatistik , \n",
        "                                                  \"p_degeri\" : p_degeri}, ignore_index=True)\n",
        "    display(karsilastirma)"
      ],
      "execution_count": 0,
      "outputs": [
        {
          "output_type": "stream",
          "text": [
            "matematik_notu için karşılaştırma"
          ],
          "name": "stdout"
        },
        {
          "output_type": "display_data",
          "data": {
            "text/html": [
              "<div>\n",
              "<style scoped>\n",
              "    .dataframe tbody tr th:only-of-type {\n",
              "        vertical-align: middle;\n",
              "    }\n",
              "\n",
              "    .dataframe tbody tr th {\n",
              "        vertical-align: top;\n",
              "    }\n",
              "\n",
              "    .dataframe thead th {\n",
              "        text-align: right;\n",
              "    }\n",
              "</style>\n",
              "<table border=\"1\" class=\"dataframe\">\n",
              "  <thead>\n",
              "    <tr style=\"text-align: right;\">\n",
              "      <th></th>\n",
              "      <th>grup_1</th>\n",
              "      <th>grup_2</th>\n",
              "      <th>istatistik</th>\n",
              "      <th>p_degeri</th>\n",
              "    </tr>\n",
              "  </thead>\n",
              "  <tbody>\n",
              "    <tr>\n",
              "      <th>0</th>\n",
              "      <td>standard</td>\n",
              "      <td>free/reduced</td>\n",
              "      <td>11.837180472914612</td>\n",
              "      <td>0.000000000000000</td>\n",
              "    </tr>\n",
              "  </tbody>\n",
              "</table>\n",
              "</div>"
            ],
            "text/plain": [
              "     grup_1        grup_2         istatistik          p_degeri\n",
              "0  standard  free/reduced 11.837180472914612 0.000000000000000"
            ]
          },
          "metadata": {
            "tags": []
          }
        },
        {
          "output_type": "stream",
          "text": [
            "okuma_notu için karşılaştırma"
          ],
          "name": "stdout"
        },
        {
          "output_type": "display_data",
          "data": {
            "text/html": [
              "<div>\n",
              "<style scoped>\n",
              "    .dataframe tbody tr th:only-of-type {\n",
              "        vertical-align: middle;\n",
              "    }\n",
              "\n",
              "    .dataframe tbody tr th {\n",
              "        vertical-align: top;\n",
              "    }\n",
              "\n",
              "    .dataframe thead th {\n",
              "        text-align: right;\n",
              "    }\n",
              "</style>\n",
              "<table border=\"1\" class=\"dataframe\">\n",
              "  <thead>\n",
              "    <tr style=\"text-align: right;\">\n",
              "      <th></th>\n",
              "      <th>grup_1</th>\n",
              "      <th>grup_2</th>\n",
              "      <th>istatistik</th>\n",
              "      <th>p_degeri</th>\n",
              "    </tr>\n",
              "  </thead>\n",
              "  <tbody>\n",
              "    <tr>\n",
              "      <th>0</th>\n",
              "      <td>standard</td>\n",
              "      <td>free/reduced</td>\n",
              "      <td>7.451056467473455</td>\n",
              "      <td>0.000000000000200</td>\n",
              "    </tr>\n",
              "  </tbody>\n",
              "</table>\n",
              "</div>"
            ],
            "text/plain": [
              "     grup_1        grup_2        istatistik          p_degeri\n",
              "0  standard  free/reduced 7.451056467473455 0.000000000000200"
            ]
          },
          "metadata": {
            "tags": []
          }
        },
        {
          "output_type": "stream",
          "text": [
            "yazma_notu için karşılaştırma"
          ],
          "name": "stdout"
        },
        {
          "output_type": "display_data",
          "data": {
            "text/html": [
              "<div>\n",
              "<style scoped>\n",
              "    .dataframe tbody tr th:only-of-type {\n",
              "        vertical-align: middle;\n",
              "    }\n",
              "\n",
              "    .dataframe tbody tr th {\n",
              "        vertical-align: top;\n",
              "    }\n",
              "\n",
              "    .dataframe thead th {\n",
              "        text-align: right;\n",
              "    }\n",
              "</style>\n",
              "<table border=\"1\" class=\"dataframe\">\n",
              "  <thead>\n",
              "    <tr style=\"text-align: right;\">\n",
              "      <th></th>\n",
              "      <th>grup_1</th>\n",
              "      <th>grup_2</th>\n",
              "      <th>istatistik</th>\n",
              "      <th>p_degeri</th>\n",
              "    </tr>\n",
              "  </thead>\n",
              "  <tbody>\n",
              "    <tr>\n",
              "      <th>0</th>\n",
              "      <td>standard</td>\n",
              "      <td>free/reduced</td>\n",
              "      <td>8.009784197834758</td>\n",
              "      <td>0.000000000000003</td>\n",
              "    </tr>\n",
              "  </tbody>\n",
              "</table>\n",
              "</div>"
            ],
            "text/plain": [
              "     grup_1        grup_2        istatistik          p_degeri\n",
              "0  standard  free/reduced 8.009784197834758 0.000000000000003"
            ]
          },
          "metadata": {
            "tags": []
          }
        }
      ]
    },
    {
      "cell_type": "markdown",
      "metadata": {
        "id": "zFEOHoP3CFM3",
        "colab_type": "text"
      },
      "source": [
        "3.)Hazırlık kurslarının sonav performansı üzerinde bir etkisi var mı?\n",
        "\n"
      ]
    },
    {
      "cell_type": "code",
      "metadata": {
        "id": "2iaw0RR3Adwq",
        "colab_type": "code",
        "outputId": "63d827ad-18e9-4512-a9e2-93be88d2a328",
        "colab": {
          "base_uri": "https://localhost:8080/",
          "height": 355
        }
      },
      "source": [
        "plt.figure(figsize=(18,5))\n",
        "\n",
        "plt.subplot(1,3,1)\n",
        "sns.barplot(ogrenciler[\"hazirlik_kursu\"], ogrenciler[\"matematik_notu\"])\n",
        "plt.title(\"matematik notu\", fontdict = baslik_font)\n",
        "\n",
        "plt.subplot(1,3,2)\n",
        "sns.barplot(ogrenciler[\"hazirlik_kursu\"], ogrenciler[\"okuma_notu\"])\n",
        "plt.title(\"okuma notu\", fontdict = baslik_font)\n",
        "\n",
        "plt.subplot(1,3,3)\n",
        "# draw the heatmap using seaborn.\n",
        "sns.barplot(ogrenciler[\"hazirlik_kursu\"], ogrenciler[\"yazma_notu\"])\n",
        "plt.title(\"yazma notu\", fontdict = baslik_font)\n",
        "\n",
        "plt.show()"
      ],
      "execution_count": 0,
      "outputs": [
        {
          "output_type": "display_data",
          "data": {
            "image/png": "[encoded data removed]",
            "text/plain": [
              "<Figure size 1296x360 with 3 Axes>"
            ]
          },
          "metadata": {
            "tags": [],
            "needs_background": "light"
          }
        }
      ]
    },
    {
      "cell_type": "markdown",
      "metadata": {
        "id": "FOcDwQZdCMQF",
        "colab_type": "text"
      },
      "source": [
        "4.)Birbiriyle korelasyonu en fazla olan dersler hangisidir?\n",
        "\n"
      ]
    },
    {
      "cell_type": "code",
      "metadata": {
        "id": "18N_oTFpAzJ0",
        "colab_type": "code",
        "outputId": "bd5b6712-a910-44f6-9d1f-6b632610c4a7",
        "colab": {
          "base_uri": "https://localhost:8080/",
          "height": 136
        }
      },
      "source": [
        "ogrenciler.corr()\n"
      ],
      "execution_count": 0,
      "outputs": [
        {
          "output_type": "execute_result",
          "data": {
            "text/html": [
              "<div>\n",
              "<style scoped>\n",
              "    .dataframe tbody tr th:only-of-type {\n",
              "        vertical-align: middle;\n",
              "    }\n",
              "\n",
              "    .dataframe tbody tr th {\n",
              "        vertical-align: top;\n",
              "    }\n",
              "\n",
              "    .dataframe thead th {\n",
              "        text-align: right;\n",
              "    }\n",
              "</style>\n",
              "<table border=\"1\" class=\"dataframe\">\n",
              "  <thead>\n",
              "    <tr style=\"text-align: right;\">\n",
              "      <th></th>\n",
              "      <th>matematik_notu</th>\n",
              "      <th>okuma_notu</th>\n",
              "      <th>yazma_notu</th>\n",
              "    </tr>\n",
              "  </thead>\n",
              "  <tbody>\n",
              "    <tr>\n",
              "      <th>matematik_notu</th>\n",
              "      <td>1.000000000000000</td>\n",
              "      <td>0.817579663672053</td>\n",
              "      <td>0.802642045949807</td>\n",
              "    </tr>\n",
              "    <tr>\n",
              "      <th>okuma_notu</th>\n",
              "      <td>0.817579663672053</td>\n",
              "      <td>1.000000000000000</td>\n",
              "      <td>0.954598077146248</td>\n",
              "    </tr>\n",
              "    <tr>\n",
              "      <th>yazma_notu</th>\n",
              "      <td>0.802642045949807</td>\n",
              "      <td>0.954598077146248</td>\n",
              "      <td>1.000000000000000</td>\n",
              "    </tr>\n",
              "  </tbody>\n",
              "</table>\n",
              "</div>"
            ],
            "text/plain": [
              "                  matematik_notu        okuma_notu        yazma_notu\n",
              "matematik_notu 1.000000000000000 0.817579663672053 0.802642045949807\n",
              "okuma_notu     0.817579663672053 1.000000000000000 0.954598077146248\n",
              "yazma_notu     0.802642045949807 0.954598077146248 1.000000000000000"
            ]
          },
          "metadata": {
            "tags": []
          },
          "execution_count": 31
        }
      ]
    },
    {
      "cell_type": "code",
      "metadata": {
        "id": "11suxrXdBAaY",
        "colab_type": "code",
        "outputId": "a6998ace-3a28-46ae-cfd8-83e5aa3837cc",
        "colab": {
          "base_uri": "https://localhost:8080/",
          "height": 367
        }
      },
      "source": [
        "plt.figure(figsize=(12,6))\n",
        "\n",
        "\n",
        "\n",
        "plt.subplot(1,2,1)\n",
        "sns.heatmap(korelasyon_mat_ogrenciler, square=True, annot=True, linewidths=.5, vmin=0, vmax=1, cmap='viridis')\n",
        "plt.title(\"Korelasyon Matrisi (Öğrenci Notları)\", fontdict=baslik_font)\n",
        "\n",
        "plt.show()"
      ],
      "execution_count": 0,
      "outputs": [
        {
          "output_type": "display_data",
          "data": {
            "image/png": "[encoded data removed]",
            "text/plain": [
              "<Figure size 864x432 with 2 Axes>"
            ]
          },
          "metadata": {
            "tags": [],
            "needs_background": "light"
          }
        }
      ]
    },
    {
      "cell_type": "code",
      "metadata": {
        "id": "ASrzFxShBEiL",
        "colab_type": "code",
        "colab": {}
      },
      "source": [
        ""
      ],
      "execution_count": 0,
      "outputs": []
    }
  ]
}