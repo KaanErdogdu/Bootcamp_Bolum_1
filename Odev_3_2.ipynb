{
  "nbformat": 4,
  "nbformat_minor": 0,
  "metadata": {
    "colab": {
      "name": "Odev 3.2",
      "provenance": [],
      "authorship_tag": "ABX9TyNf3M4pgp3p5F8wCyZoHjUh",
      "include_colab_link": true
    },
    "kernelspec": {
      "name": "python3",
      "display_name": "Python 3"
    }
  },
  "cells": [
    {
      "cell_type": "markdown",
      "metadata": {
        "id": "view-in-github",
        "colab_type": "text"
      },
      "source": [
        "<a href=\"https://colab.research.google.com/github/KaanErdogdu/Bootcamp_Bolum_1/blob/master/Odev_3_2.ipynb\" target=\"_parent\"><img src=\"https://colab.research.google.com/assets/colab-badge.svg\" alt=\"Open In Colab\"/></a>"
      ]
    },
    {
      "cell_type": "code",
      "metadata": {
        "id": "_5JM0vyVM2pS",
        "colab_type": "code",
        "colab": {}
      },
      "source": [
        " PA=0.40\n",
        " PB=0.40 \n",
        " PC=0.20"
      ],
      "execution_count": 0,
      "outputs": []
    },
    {
      "cell_type": "code",
      "metadata": {
        "id": "XKKsLg95NNhN",
        "colab_type": "code",
        "colab": {}
      },
      "source": [
        "PDA=0.015 \n",
        "PDB=0.020 \n",
        "PDC=0.010\n",
        "\n"
      ],
      "execution_count": 0,
      "outputs": []
    },
    {
      "cell_type": "code",
      "metadata": {
        "id": "gzdzE1aWNZvL",
        "colab_type": "code",
        "outputId": "dce9f56d-bb38-4034-f302-b456825bec6e",
        "colab": {
          "base_uri": "https://localhost:8080/",
          "height": 34
        }
      },
      "source": [
        "PB*PDB"
      ],
      "execution_count": 0,
      "outputs": [
        {
          "output_type": "execute_result",
          "data": {
            "text/plain": [
              "0.008"
            ]
          },
          "metadata": {
            "tags": []
          },
          "execution_count": 3
        }
      ]
    },
    {
      "cell_type": "code",
      "metadata": {
        "id": "1peTfIsbN05J",
        "colab_type": "code",
        "colab": {}
      },
      "source": [
        ""
      ],
      "execution_count": 0,
      "outputs": []
    }
  ]
}