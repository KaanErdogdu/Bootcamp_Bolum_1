{
  "nbformat": 4,
  "nbformat_minor": 0,
  "metadata": {
    "colab": {
      "name": "BootCamp_2_Odev2.ipynb",
      "provenance": [],
      "authorship_tag": "ABX9TyOpXcmx9hX+u5/PNDspMrqN",
      "include_colab_link": true
    },
    "kernelspec": {
      "name": "python3",
      "display_name": "Python 3"
    }
  },
  "cells": [
    {
      "cell_type": "markdown",
      "metadata": {
        "id": "view-in-github",
        "colab_type": "text"
      },
      "source": [
        "<a href=\"https://colab.research.google.com/github/KaanErdogdu/Bootcamp_Bolum_1/blob/master/BootCamp_2_Odev2.ipynb\" target=\"_parent\"><img src=\"https://colab.research.google.com/assets/colab-badge.svg\" alt=\"Open In Colab\"/></a>"
      ]
    },
    {
      "cell_type": "code",
      "metadata": {
        "id": "f6Gf1FsgAVIa",
        "colab_type": "code",
        "colab": {}
      },
      "source": [
        "gun = 7\n",
        "yatırım=1000\n",
        "i=0.12\n"
      ],
      "execution_count": 0,
      "outputs": []
    },
    {
      "cell_type": "code",
      "metadata": {
        "id": "Z4wOtuqjBAex",
        "colab_type": "code",
        "outputId": "14d47fa8-c978-4a55-f655-981489d4701a",
        "colab": {
          "base_uri": "https://localhost:8080/",
          "height": 34
        }
      },
      "source": [
        "FV= yatırım*(1+(i*gun))\n",
        "print (FV)\n"
      ],
      "execution_count": 18,
      "outputs": [
        {
          "output_type": "stream",
          "text": [
            "1839.9999999999998\n"
          ],
          "name": "stdout"
        }
      ]
    },
    {
      "cell_type": "code",
      "metadata": {
        "id": "unSyAVgjZTtA",
        "colab_type": "code",
        "colab": {
          "base_uri": "https://localhost:8080/",
          "height": 134
        },
        "outputId": "129c683d-eff7-4730-98b5-9a823af55319"
      },
      "source": [
        "\"Hafta başında\",yatırım, \"dolarlık bitcoin aldığımızda günde ortalama\",i, \"kazançla, bir hafta sonunda\", 1210.68 ,\"dolar kazanırdık\""
      ],
      "execution_count": 7,
      "outputs": [
        {
          "output_type": "execute_result",
          "data": {
            "text/plain": [
              "('Hafta başında',\n",
              " 1000,\n",
              " 'dolarlık bitcoin aldığımızda günde ortalama',\n",
              " 0.12,\n",
              " 'kazançla, bir hafta sonunda',\n",
              " 1210.68,\n",
              " 'dolar kazanırdık')"
            ]
          },
          "metadata": {
            "tags": []
          },
          "execution_count": 7
        }
      ]
    },
    {
      "cell_type": "code",
      "metadata": {
        "id": "V92TGeepZ6oR",
        "colab_type": "code",
        "colab": {
          "base_uri": "https://localhost:8080/",
          "height": 34
        },
        "outputId": "f8c93edf-d1b8-47a4-db28-771b90ccc777"
      },
      "source": [
        "\"Hafta başında\",yatırım, \"dolarlık bitcoin aldığımızda günde ortalama\",i,\n"
      ],
      "execution_count": 13,
      "outputs": [
        {
          "output_type": "execute_result",
          "data": {
            "text/plain": [
              "('Hafta başında', 1000, 'dolarlık bitcoin aldığımızda günde ortalama', 0.12)"
            ]
          },
          "metadata": {
            "tags": []
          },
          "execution_count": 13
        }
      ]
    },
    {
      "cell_type": "code",
      "metadata": {
        "id": "znX1ggnVaE5l",
        "colab_type": "code",
        "colab": {
          "base_uri": "https://localhost:8080/",
          "height": 34
        },
        "outputId": "fd365b6e-0be4-41fb-9cea-ed4dd580346f"
      },
      "source": [
        "\"kazançla, bir hafta sonunda\", FV, \"dolar kazandırdık\""
      ],
      "execution_count": 12,
      "outputs": [
        {
          "output_type": "execute_result",
          "data": {
            "text/plain": [
              "('kazançla, bir hafta sonunda', 1839.9999999999998, 'dolar kazandırdık')"
            ]
          },
          "metadata": {
            "tags": []
          },
          "execution_count": 12
        }
      ]
    },
    {
      "cell_type": "code",
      "metadata": {
        "id": "T-Bg_7p0aYXK",
        "colab_type": "code",
        "colab": {
          "base_uri": "https://localhost:8080/",
          "height": 50
        },
        "outputId": "cadeb255-eaf4-453b-f2bf-a65432246336"
      },
      "source": [
        "dosya_adı = input('Dosya Adı : ')\n",
        "\n",
        "print (dosya_adı,\".py\")"
      ],
      "execution_count": 16,
      "outputs": [
        {
          "output_type": "stream",
          "text": [
            "Dosya Adı : Odev1\n",
            "Odev1 .py\n"
          ],
          "name": "stdout"
        }
      ]
    },
    {
      "cell_type": "code",
      "metadata": {
        "id": "hF8pE6xTayF1",
        "colab_type": "code",
        "colab": {}
      },
      "source": [
        ""
      ],
      "execution_count": 0,
      "outputs": []
    }
  ]
}