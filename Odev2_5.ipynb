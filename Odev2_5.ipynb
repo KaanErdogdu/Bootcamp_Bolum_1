{
  "nbformat": 4,
  "nbformat_minor": 0,
  "metadata": {
    "colab": {
      "name": "Odev2.5.ipynb",
      "provenance": [],
      "collapsed_sections": [],
      "authorship_tag": "ABX9TyO8Z4TNZ51dCvRQjPmp8Ry2",
      "include_colab_link": true
    },
    "kernelspec": {
      "name": "python3",
      "display_name": "Python 3"
    }
  },
  "cells": [
    {
      "cell_type": "markdown",
      "metadata": {
        "id": "view-in-github",
        "colab_type": "text"
      },
      "source": [
        "<a href=\"https://colab.research.google.com/github/KaanErdogdu/Bootcamp_Bolum_1/blob/master/Odev2_5.ipynb\" target=\"_parent\"><img src=\"https://colab.research.google.com/assets/colab-badge.svg\" alt=\"Open In Colab\"/></a>"
      ]
    },
    {
      "cell_type": "markdown",
      "metadata": {
        "id": "Zcu-FVyRiL6x",
        "colab_type": "text"
      },
      "source": [
        "Dosya çekme işlemini beceremedim"
      ]
    },
    {
      "cell_type": "markdown",
      "metadata": {
        "id": "RVFYm7OC0Fyi",
        "colab_type": "text"
      },
      "source": [
        "Soru 2.)"
      ]
    },
    {
      "cell_type": "code",
      "metadata": {
        "id": "ed05-eGz0KD4",
        "colab_type": "code",
        "outputId": "3486aa9a-9352-49ef-98c0-7ec4cced904e",
        "colab": {
          "base_uri": "https://localhost:8080/",
          "height": 34
        }
      },
      "source": [
        "x = int(input(\"sayı\"))"
      ],
      "execution_count": 0,
      "outputs": [
        {
          "output_type": "stream",
          "text": [
            "sayı11\n"
          ],
          "name": "stdout"
        }
      ]
    },
    {
      "cell_type": "code",
      "metadata": {
        "id": "RQbyesJ-0NZr",
        "colab_type": "code",
        "colab": {}
      },
      "source": [
        "def asal(x):\n",
        "  if x>1:\n",
        "    for i in range (2,x-1):\n",
        "      if x%i==0:\n",
        "        res=\"Asal Değil\"\n",
        "        return res\n",
        "        break\n",
        "      else:\n",
        "        res=\"Asal\"\n",
        "        return res\n",
        "  else:\n",
        "    res=\"negatif sayı girdiniz\"\n",
        "\n",
        "    return res      "
      ],
      "execution_count": 0,
      "outputs": []
    },
    {
      "cell_type": "code",
      "metadata": {
        "id": "_MUWRKu90Thj",
        "colab_type": "code",
        "outputId": "c1a88d97-e5de-4e24-b308-36a48ec51e53",
        "colab": {
          "base_uri": "https://localhost:8080/",
          "height": 34
        }
      },
      "source": [
        "print(asal(x))"
      ],
      "execution_count": 0,
      "outputs": [
        {
          "output_type": "stream",
          "text": [
            "Asal\n"
          ],
          "name": "stdout"
        }
      ]
    },
    {
      "cell_type": "markdown",
      "metadata": {
        "id": "vIMV8LW6ah4W",
        "colab_type": "text"
      },
      "source": [
        "Soru 3.) Return'nin yeri konusunu netleştiremedim ? :("
      ]
    },
    {
      "cell_type": "code",
      "metadata": {
        "id": "WhEOGsUAVgvj",
        "colab_type": "code",
        "colab": {}
      },
      "source": [
        "listem=[1,2,2,3,3,4,4]"
      ],
      "execution_count": 0,
      "outputs": []
    },
    {
      "cell_type": "code",
      "metadata": {
        "id": "eNkB7-U2X9ri",
        "colab_type": "code",
        "colab": {
          "base_uri": "https://localhost:8080/",
          "height": 34
        },
        "outputId": "270941e3-7a6e-4a55-bf6f-694d87dea6a2"
      },
      "source": [
        "def unique(listem):\n",
        "  unique_list=[]\n",
        "  for x in listem:\n",
        "     if x not in unique_list:\n",
        "       unique_list.append(x)\n",
        "  essiz=unique_list[::-1]    \n",
        "  return(essiz) \n",
        "print(unique(listem))"
      ],
      "execution_count": 22,
      "outputs": [
        {
          "output_type": "stream",
          "text": [
            "[4, 3, 2, 1]\n"
          ],
          "name": "stdout"
        }
      ]
    },
    {
      "cell_type": "code",
      "metadata": {
        "id": "aD8nCufPcdYk",
        "colab_type": "code",
        "colab": {}
      },
      "source": [
        ""
      ],
      "execution_count": 0,
      "outputs": []
    },
    {
      "cell_type": "markdown",
      "metadata": {
        "id": "SK0CwuOPh-KF",
        "colab_type": "text"
      },
      "source": [
        "4.Soru (date time ın modulünü bulamadım. Modul kısmı tam oturmadı.):("
      ]
    },
    {
      "cell_type": "code",
      "metadata": {
        "id": "9QdhGKEQiADD",
        "colab_type": "code",
        "colab": {
          "base_uri": "https://localhost:8080/",
          "height": 34
        },
        "outputId": "84a3be96-7da1-4fa7-e6c2-110d23647a7c"
      },
      "source": [
        "  \n",
        "from datetime import date \n",
        "  \n",
        "def calculateAge(birthDate): \n",
        "    today = date.today() \n",
        "    age = today.year - birthDate.year - ((today.month, today.day) < (birthDate.month, birthDate.day)) \n",
        "  \n",
        "    return age \n",
        "      \n",
        "print(calculateAge(date(1997, 2, 3)), \"years old\") "
      ],
      "execution_count": 24,
      "outputs": [
        {
          "output_type": "stream",
          "text": [
            "23 years old\n"
          ],
          "name": "stdout"
        }
      ]
    },
    {
      "cell_type": "code",
      "metadata": {
        "id": "w-FQrdZziAoC",
        "colab_type": "code",
        "colab": {}
      },
      "source": [
        ""
      ],
      "execution_count": 0,
      "outputs": []
    }
  ]
}