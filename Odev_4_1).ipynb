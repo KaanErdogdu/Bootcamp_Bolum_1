{
  "nbformat": 4,
  "nbformat_minor": 0,
  "metadata": {
    "colab": {
      "name": "Odev 4.1)",
      "provenance": [],
      "authorship_tag": "ABX9TyOm23n8JOtariYfMM2mSx8P",
      "include_colab_link": true
    },
    "kernelspec": {
      "name": "python3",
      "display_name": "Python 3"
    }
  },
  "cells": [
    {
      "cell_type": "markdown",
      "metadata": {
        "id": "view-in-github",
        "colab_type": "text"
      },
      "source": [
        "<a href=\"https://colab.research.google.com/github/KaanErdogdu/Bootcamp_Bolum_1/blob/master/Odev_4_1).ipynb\" target=\"_parent\"><img src=\"https://colab.research.google.com/assets/colab-badge.svg\" alt=\"Open In Colab\"/></a>"
      ]
    },
    {
      "cell_type": "markdown",
      "metadata": {
        "id": "OYJImzQsunCm",
        "colab_type": "text"
      },
      "source": [
        "1.)Keşifsel Veri Analizinin amacı nedir?\n"
      ]
    },
    {
      "cell_type": "markdown",
      "metadata": {
        "id": "J5POWs_VuYiV",
        "colab_type": "text"
      },
      "source": [
        "Eda veriden anlam çıkarabilmek için verileri inceleme ve temizleme sürecidir.Proje başında en doğru dataseti en doğru model’i kullanarak analiz etmemizi sağlar. Proje boyuncada yeni bir veri gelmesi ile aynı süreçleri devam ettirir.\n"
      ]
    },
    {
      "cell_type": "markdown",
      "metadata": {
        "id": "ez0xe4YguxoJ",
        "colab_type": "text"
      },
      "source": [
        "2.)Bir e-ticaret şirketinin ürünlerine ait müşteri yorumlarını içeren bir veri kümesi üzerinde çalıştığınızı farz edin. Şirketin web sitesi aracılığıyla toplanan müşteri yorumları içeriğinin olumlu ya da olumsuz olmasına göre 1 ila 5 arasında derecelendirilmiştir.\n",
        "\n",
        "\n"
      ]
    },
    {
      "cell_type": "markdown",
      "metadata": {
        "id": "1orEhR-vvh1d",
        "colab_type": "text"
      },
      "source": [
        "a.)Ham veride data set’nin büyüklüğü, bazı verilerin hatalı yada boş gelmesi, implementasyon sürecinden kaynaklı datanın belirli bir süre çalışmaması gibi sorunlarla karşılaşabiliriz."
      ]
    },
    {
      "cell_type": "markdown",
      "metadata": {
        "id": "SkbeLD3pvkEp",
        "colab_type": "text"
      },
      "source": [
        "b.)Öncelikle web sitesinin düşük puan almış ürünlere ait sayfalarını çıkarırdım. Daha sonra bu ürünler hakkında kategorisel, sistemsel bir benzerlik var mı diye bakardım. Olumsuz veren müşteriler hakkında demografik bir data varsa onları arasında bir ilişki kurardım.\n",
        "Tespit edilen sayfalar için ayrıca olası problemlerini seçtiren bir anket çıkardım. Daha sonrasında bu anket üstünden analizler yaparak sorunun en çok hangi nedenden kaynaklandığını tespit ederdim.\n"
      ]
    },
    {
      "cell_type": "markdown",
      "metadata": {
        "id": "y2EmUcEDw84P",
        "colab_type": "text"
      },
      "source": [
        "C.)Ham veri genel olarak baktığımızda bir dağılımı bize verir ve içgörü oluşturmamıza yardımcı olur. Daha sonrasında ham veriden genel olarak görselleştirerek, veriler arasında ilişkiler kurarak, ortalama değerlerini alarak ve gruplayarak inceleyip hedefe yönelik yararlı özellikler çıkarabiliriz."
      ]
    },
    {
      "cell_type": "markdown",
      "metadata": {
        "id": "5yLH8OeHxUOt",
        "colab_type": "text"
      },
      "source": [
        ""
      ]
    }
  ]
}