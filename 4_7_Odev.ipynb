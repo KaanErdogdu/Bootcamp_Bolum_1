{
  "nbformat": 4,
  "nbformat_minor": 0,
  "metadata": {
    "colab": {
      "name": "4_7_Odev.ipynb",
      "provenance": [],
      "collapsed_sections": [],
      "authorship_tag": "ABX9TyMJWUyUVO6gZHZ7RuxtsHGh",
      "include_colab_link": true
    },
    "kernelspec": {
      "name": "python3",
      "display_name": "Python 3"
    }
  },
  "cells": [
    {
      "cell_type": "markdown",
      "metadata": {
        "id": "view-in-github",
        "colab_type": "text"
      },
      "source": [
        "<a href=\"https://colab.research.google.com/github/KaanErdogdu/Bootcamp_Bolum_1/blob/master/4_7_Odev.ipynb\" target=\"_parent\"><img src=\"https://colab.research.google.com/assets/colab-badge.svg\" alt=\"Open In Colab\"/></a>"
      ]
    },
    {
      "cell_type": "code",
      "metadata": {
        "id": "0WawLopnCGuX",
        "colab_type": "code",
        "outputId": "7a167f65-93cb-4a1a-a7f6-d208a4dcda70",
        "colab": {
          "base_uri": "https://localhost:8080/",
          "height": 72
        }
      },
      "source": [
        "import matplotlib.pyplot as plt\n",
        "import seaborn as sns\n",
        "import numpy as np\n",
        "import pandas as pd\n",
        "import seaborn as sns\n",
        "import scipy.stats as stats\n",
        "from scipy.stats.mstats import winsorize\n",
        "from sqlalchemy import create_engine\n",
        "import warnings\n",
        "\n",
        "warnings.filterwarnings('ignore')\n",
        "sns.set(style=\"whitegrid\")\n",
        "baslik_font = {'family': 'arial', 'color': 'darkred','weight': 'bold','size': 13 }\n",
        "eksen_font  = {'family': 'arial', 'color': 'darkblue','weight': 'bold','size': 10 }"
      ],
      "execution_count": 0,
      "outputs": [
        {
          "output_type": "stream",
          "text": [
            "/usr/local/lib/python3.6/dist-packages/statsmodels/tools/_testing.py:19: FutureWarning: pandas.util.testing is deprecated. Use the functions in the public API at pandas.testing instead.\n",
            "  import pandas.util.testing as tm\n"
          ],
          "name": "stderr"
        }
      ]
    },
    {
      "cell_type": "code",
      "metadata": {
        "id": "Be_7yX97ClxH",
        "colab_type": "code",
        "outputId": "ef1a415a-3e8e-4d69-8f3a-aa25857ecf8e",
        "colab": {
          "base_uri": "https://localhost:8080/",
          "height": 194
        }
      },
      "source": [
        "ogrenciler = pd.read_csv(\"StudentsPerformance.csv\")\n",
        "ogrenciler.columns = ['cinsiyet', 'koken', 'aile_egt_seviyesi', 'ogle_yemegi', \n",
        "                              'hazirlik_kursu', 'matematik_notu', 'okuma_notu', 'yazma_notu']\n",
        "ogrenciler.head()"
      ],
      "execution_count": 0,
      "outputs": [
        {
          "output_type": "execute_result",
          "data": {
            "text/html": [
              "<div>\n",
              "<style scoped>\n",
              "    .dataframe tbody tr th:only-of-type {\n",
              "        vertical-align: middle;\n",
              "    }\n",
              "\n",
              "    .dataframe tbody tr th {\n",
              "        vertical-align: top;\n",
              "    }\n",
              "\n",
              "    .dataframe thead th {\n",
              "        text-align: right;\n",
              "    }\n",
              "</style>\n",
              "<table border=\"1\" class=\"dataframe\">\n",
              "  <thead>\n",
              "    <tr style=\"text-align: right;\">\n",
              "      <th></th>\n",
              "      <th>cinsiyet</th>\n",
              "      <th>koken</th>\n",
              "      <th>aile_egt_seviyesi</th>\n",
              "      <th>ogle_yemegi</th>\n",
              "      <th>hazirlik_kursu</th>\n",
              "      <th>matematik_notu</th>\n",
              "      <th>okuma_notu</th>\n",
              "      <th>yazma_notu</th>\n",
              "    </tr>\n",
              "  </thead>\n",
              "  <tbody>\n",
              "    <tr>\n",
              "      <th>0</th>\n",
              "      <td>female</td>\n",
              "      <td>group B</td>\n",
              "      <td>bachelor's degree</td>\n",
              "      <td>standard</td>\n",
              "      <td>none</td>\n",
              "      <td>72</td>\n",
              "      <td>72</td>\n",
              "      <td>74</td>\n",
              "    </tr>\n",
              "    <tr>\n",
              "      <th>1</th>\n",
              "      <td>female</td>\n",
              "      <td>group C</td>\n",
              "      <td>some college</td>\n",
              "      <td>standard</td>\n",
              "      <td>completed</td>\n",
              "      <td>69</td>\n",
              "      <td>90</td>\n",
              "      <td>88</td>\n",
              "    </tr>\n",
              "    <tr>\n",
              "      <th>2</th>\n",
              "      <td>female</td>\n",
              "      <td>group B</td>\n",
              "      <td>master's degree</td>\n",
              "      <td>standard</td>\n",
              "      <td>none</td>\n",
              "      <td>90</td>\n",
              "      <td>95</td>\n",
              "      <td>93</td>\n",
              "    </tr>\n",
              "    <tr>\n",
              "      <th>3</th>\n",
              "      <td>male</td>\n",
              "      <td>group A</td>\n",
              "      <td>associate's degree</td>\n",
              "      <td>free/reduced</td>\n",
              "      <td>none</td>\n",
              "      <td>47</td>\n",
              "      <td>57</td>\n",
              "      <td>44</td>\n",
              "    </tr>\n",
              "    <tr>\n",
              "      <th>4</th>\n",
              "      <td>male</td>\n",
              "      <td>group C</td>\n",
              "      <td>some college</td>\n",
              "      <td>standard</td>\n",
              "      <td>none</td>\n",
              "      <td>76</td>\n",
              "      <td>78</td>\n",
              "      <td>75</td>\n",
              "    </tr>\n",
              "  </tbody>\n",
              "</table>\n",
              "</div>"
            ],
            "text/plain": [
              "  cinsiyet    koken   aile_egt_seviyesi  ... matematik_notu okuma_notu  yazma_notu\n",
              "0   female  group B   bachelor's degree  ...             72         72          74\n",
              "1   female  group C        some college  ...             69         90          88\n",
              "2   female  group B     master's degree  ...             90         95          93\n",
              "3     male  group A  associate's degree  ...             47         57          44\n",
              "4     male  group C        some college  ...             76         78          75\n",
              "\n",
              "[5 rows x 8 columns]"
            ]
          },
          "metadata": {
            "tags": []
          },
          "execution_count": 2
        }
      ]
    },
    {
      "cell_type": "code",
      "metadata": {
        "id": "AaGDpZhPDMbk",
        "colab_type": "code",
        "outputId": "3a4d4b64-ccbe-43da-ab14-daf8b880d4dc",
        "colab": {
          "base_uri": "https://localhost:8080/",
          "height": 623
        }
      },
      "source": [
        "plt.figure(figsize = (18,5))\n",
        "\n",
        "plt.subplot(1,3,1)\n",
        "plt.hist(ogrenciler[\"matematik_notu\"])\n",
        "plt.title(\"Matematik Notu\", fontdict=baslik_font)\n",
        "\n",
        "plt.subplot(1,3,2)\n",
        "plt.hist(ogrenciler[\"okuma_notu\"])\n",
        "plt.title(\"Okuma Notu\", fontdict=baslik_font)\n",
        "plt.show()\n",
        "\n",
        "plt.subplot(1,3,3)\n",
        "plt.hist(ogrenciler[\"yazma_notu\"])\n",
        "plt.title(\"yazma notu \", fontdict=baslik_font)\n",
        "plt.show()"
      ],
      "execution_count": 0,
      "outputs": [
        {
          "output_type": "stream",
          "text": [
            "findfont: Font family ['arial'] not found. Falling back to DejaVu Sans.\n"
          ],
          "name": "stderr"
        },
        {
          "output_type": "display_data",
          "data": {
            "image/png": "[encoded data removed]",
            "text/plain": [
              "<Figure size 1296x360 with 2 Axes>"
            ]
          },
          "metadata": {
            "tags": [],
            "needs_background": "light"
          }
        },
        {
          "output_type": "display_data",
          "data": {
            "image/png": "[encoded data removed]",
            "text/plain": [
              "<Figure size 432x288 with 1 Axes>"
            ]
          },
          "metadata": {
            "tags": [],
            "needs_background": "light"
          }
        }
      ]
    },
    {
      "cell_type": "code",
      "metadata": {
        "id": "FDrBmluwER5W",
        "colab_type": "code",
        "outputId": "7c7d82f6-0af7-4ce1-982e-1af829e6614f",
        "colab": {
          "base_uri": "https://localhost:8080/",
          "height": 605
        }
      },
      "source": [
        "plt.figure(figsize = (18,5))\n",
        "\n",
        "plt.subplot(1,3,1)\n",
        "plt.hist(ogrenciler[\"matematik_notu\"])\n",
        "plt.title(\"Matematik Notu\", fontdict=baslik_font)\n",
        "\n",
        "plt.subplot(1,3,2)\n",
        "plt.hist(ogrenciler[\"okuma_notu\"])\n",
        "plt.title(\"Okuma Notu\", fontdict=baslik_font)\n",
        "plt.show()\n",
        "\n",
        "plt.subplot(1,3,3)\n",
        "plt.hist(ogrenciler[\"yazma_notu\"])\n",
        "plt.title(\"yazma notu \", fontdict=baslik_font)\n",
        "plt.show()"
      ],
      "execution_count": 0,
      "outputs": [
        {
          "output_type": "display_data",
          "data": {
            "image/png": "[encoded data removed]",
            "text/plain": [
              "<Figure size 1296x360 with 2 Axes>"
            ]
          },
          "metadata": {
            "tags": [],
            "needs_background": "light"
          }
        },
        {
          "output_type": "display_data",
          "data": {
            "image/png": "[encoded data removed]",
            "text/plain": [
              "<Figure size 432x288 with 1 Axes>"
            ]
          },
          "metadata": {
            "tags": [],
            "needs_background": "light"
          }
        }
      ]
    },
    {
      "cell_type": "code",
      "metadata": {
        "id": "VVD41LWoKOnm",
        "colab_type": "code",
        "outputId": "33c3a786-e278-488e-a675-bbd43619321b",
        "colab": {
          "base_uri": "https://localhost:8080/",
          "height": 282
        }
      },
      "source": [
        "ogrenciler.describe()"
      ],
      "execution_count": 0,
      "outputs": [
        {
          "output_type": "execute_result",
          "data": {
            "text/html": [
              "<div>\n",
              "<style scoped>\n",
              "    .dataframe tbody tr th:only-of-type {\n",
              "        vertical-align: middle;\n",
              "    }\n",
              "\n",
              "    .dataframe tbody tr th {\n",
              "        vertical-align: top;\n",
              "    }\n",
              "\n",
              "    .dataframe thead th {\n",
              "        text-align: right;\n",
              "    }\n",
              "</style>\n",
              "<table border=\"1\" class=\"dataframe\">\n",
              "  <thead>\n",
              "    <tr style=\"text-align: right;\">\n",
              "      <th></th>\n",
              "      <th>matematik_notu</th>\n",
              "      <th>okuma_notu</th>\n",
              "      <th>yazma_notu</th>\n",
              "    </tr>\n",
              "  </thead>\n",
              "  <tbody>\n",
              "    <tr>\n",
              "      <th>count</th>\n",
              "      <td>1000.00000</td>\n",
              "      <td>1000.000000</td>\n",
              "      <td>1000.000000</td>\n",
              "    </tr>\n",
              "    <tr>\n",
              "      <th>mean</th>\n",
              "      <td>66.08900</td>\n",
              "      <td>69.169000</td>\n",
              "      <td>68.054000</td>\n",
              "    </tr>\n",
              "    <tr>\n",
              "      <th>std</th>\n",
              "      <td>15.16308</td>\n",
              "      <td>14.600192</td>\n",
              "      <td>15.195657</td>\n",
              "    </tr>\n",
              "    <tr>\n",
              "      <th>min</th>\n",
              "      <td>0.00000</td>\n",
              "      <td>17.000000</td>\n",
              "      <td>10.000000</td>\n",
              "    </tr>\n",
              "    <tr>\n",
              "      <th>25%</th>\n",
              "      <td>57.00000</td>\n",
              "      <td>59.000000</td>\n",
              "      <td>57.750000</td>\n",
              "    </tr>\n",
              "    <tr>\n",
              "      <th>50%</th>\n",
              "      <td>66.00000</td>\n",
              "      <td>70.000000</td>\n",
              "      <td>69.000000</td>\n",
              "    </tr>\n",
              "    <tr>\n",
              "      <th>75%</th>\n",
              "      <td>77.00000</td>\n",
              "      <td>79.000000</td>\n",
              "      <td>79.000000</td>\n",
              "    </tr>\n",
              "    <tr>\n",
              "      <th>max</th>\n",
              "      <td>100.00000</td>\n",
              "      <td>100.000000</td>\n",
              "      <td>100.000000</td>\n",
              "    </tr>\n",
              "  </tbody>\n",
              "</table>\n",
              "</div>"
            ],
            "text/plain": [
              "       matematik_notu   okuma_notu   yazma_notu\n",
              "count      1000.00000  1000.000000  1000.000000\n",
              "mean         66.08900    69.169000    68.054000\n",
              "std          15.16308    14.600192    15.195657\n",
              "min           0.00000    17.000000    10.000000\n",
              "25%          57.00000    59.000000    57.750000\n",
              "50%          66.00000    70.000000    69.000000\n",
              "75%          77.00000    79.000000    79.000000\n",
              "max         100.00000   100.000000   100.000000"
            ]
          },
          "metadata": {
            "tags": []
          },
          "execution_count": 5
        }
      ]
    },
    {
      "cell_type": "code",
      "metadata": {
        "id": "_iVgLE91ZeL4",
        "colab_type": "code",
        "colab": {}
      },
      "source": [
        "ogrenciler[\"Ortalama\"]= (ogrenciler[\"matematik_notu\"]+ogrenciler[\"okuma_notu\"]+ogrenciler[\"yazma_notu\"])/3"
      ],
      "execution_count": 0,
      "outputs": []
    },
    {
      "cell_type": "code",
      "metadata": {
        "id": "bVF-ZjSFZ25t",
        "colab_type": "code",
        "outputId": "51a6a2ba-138d-4000-c61d-ce6a5ce380bd",
        "colab": {
          "base_uri": "https://localhost:8080/",
          "height": 230
        }
      },
      "source": [
        "ogrenciler[\"Ortalama\"]"
      ],
      "execution_count": 0,
      "outputs": [
        {
          "output_type": "execute_result",
          "data": {
            "text/plain": [
              "0      72.666667\n",
              "1      82.333333\n",
              "2      92.666667\n",
              "3      49.333333\n",
              "4      76.333333\n",
              "         ...    \n",
              "995    94.000000\n",
              "996    57.333333\n",
              "997    65.000000\n",
              "998    74.333333\n",
              "999    83.000000\n",
              "Name: Ortalama, Length: 1000, dtype: float64"
            ]
          },
          "metadata": {
            "tags": []
          },
          "execution_count": 7
        }
      ]
    },
    {
      "cell_type": "code",
      "metadata": {
        "id": "RCsNrFT-Z6k0",
        "colab_type": "code",
        "outputId": "a64e6ead-646a-45a8-d804-88fde494791e",
        "colab": {
          "base_uri": "https://localhost:8080/",
          "height": 194
        }
      },
      "source": [
        "ogrenciler.head()"
      ],
      "execution_count": 0,
      "outputs": [
        {
          "output_type": "execute_result",
          "data": {
            "text/html": [
              "<div>\n",
              "<style scoped>\n",
              "    .dataframe tbody tr th:only-of-type {\n",
              "        vertical-align: middle;\n",
              "    }\n",
              "\n",
              "    .dataframe tbody tr th {\n",
              "        vertical-align: top;\n",
              "    }\n",
              "\n",
              "    .dataframe thead th {\n",
              "        text-align: right;\n",
              "    }\n",
              "</style>\n",
              "<table border=\"1\" class=\"dataframe\">\n",
              "  <thead>\n",
              "    <tr style=\"text-align: right;\">\n",
              "      <th></th>\n",
              "      <th>cinsiyet</th>\n",
              "      <th>koken</th>\n",
              "      <th>aile_egt_seviyesi</th>\n",
              "      <th>ogle_yemegi</th>\n",
              "      <th>hazirlik_kursu</th>\n",
              "      <th>matematik_notu</th>\n",
              "      <th>okuma_notu</th>\n",
              "      <th>yazma_notu</th>\n",
              "      <th>Ortalama</th>\n",
              "    </tr>\n",
              "  </thead>\n",
              "  <tbody>\n",
              "    <tr>\n",
              "      <th>0</th>\n",
              "      <td>female</td>\n",
              "      <td>group B</td>\n",
              "      <td>bachelor's degree</td>\n",
              "      <td>standard</td>\n",
              "      <td>none</td>\n",
              "      <td>72</td>\n",
              "      <td>72</td>\n",
              "      <td>74</td>\n",
              "      <td>72.666667</td>\n",
              "    </tr>\n",
              "    <tr>\n",
              "      <th>1</th>\n",
              "      <td>female</td>\n",
              "      <td>group C</td>\n",
              "      <td>some college</td>\n",
              "      <td>standard</td>\n",
              "      <td>completed</td>\n",
              "      <td>69</td>\n",
              "      <td>90</td>\n",
              "      <td>88</td>\n",
              "      <td>82.333333</td>\n",
              "    </tr>\n",
              "    <tr>\n",
              "      <th>2</th>\n",
              "      <td>female</td>\n",
              "      <td>group B</td>\n",
              "      <td>master's degree</td>\n",
              "      <td>standard</td>\n",
              "      <td>none</td>\n",
              "      <td>90</td>\n",
              "      <td>95</td>\n",
              "      <td>93</td>\n",
              "      <td>92.666667</td>\n",
              "    </tr>\n",
              "    <tr>\n",
              "      <th>3</th>\n",
              "      <td>male</td>\n",
              "      <td>group A</td>\n",
              "      <td>associate's degree</td>\n",
              "      <td>free/reduced</td>\n",
              "      <td>none</td>\n",
              "      <td>47</td>\n",
              "      <td>57</td>\n",
              "      <td>44</td>\n",
              "      <td>49.333333</td>\n",
              "    </tr>\n",
              "    <tr>\n",
              "      <th>4</th>\n",
              "      <td>male</td>\n",
              "      <td>group C</td>\n",
              "      <td>some college</td>\n",
              "      <td>standard</td>\n",
              "      <td>none</td>\n",
              "      <td>76</td>\n",
              "      <td>78</td>\n",
              "      <td>75</td>\n",
              "      <td>76.333333</td>\n",
              "    </tr>\n",
              "  </tbody>\n",
              "</table>\n",
              "</div>"
            ],
            "text/plain": [
              "  cinsiyet    koken   aile_egt_seviyesi  ... okuma_notu yazma_notu   Ortalama\n",
              "0   female  group B   bachelor's degree  ...         72         74  72.666667\n",
              "1   female  group C        some college  ...         90         88  82.333333\n",
              "2   female  group B     master's degree  ...         95         93  92.666667\n",
              "3     male  group A  associate's degree  ...         57         44  49.333333\n",
              "4     male  group C        some college  ...         78         75  76.333333\n",
              "\n",
              "[5 rows x 9 columns]"
            ]
          },
          "metadata": {
            "tags": []
          },
          "execution_count": 8
        }
      ]
    },
    {
      "cell_type": "code",
      "metadata": {
        "id": "iieHPdIEaA2_",
        "colab_type": "code",
        "outputId": "57f4849c-90c1-45e8-9acf-89546e6c2f3d",
        "colab": {
          "base_uri": "https://localhost:8080/",
          "height": 356
        }
      },
      "source": [
        "plt.figure(figsize = (18,5))\n",
        "\n",
        "plt.subplot(1,3,1)\n",
        "plt.hist(ogrenciler[\"Ortalama\"])\n",
        "plt.title(\"Ortalama Notu\", fontdict=baslik_font)\n"
      ],
      "execution_count": 0,
      "outputs": [
        {
          "output_type": "execute_result",
          "data": {
            "text/plain": [
              "Text(0.5, 1.0, 'Ortalama Notu')"
            ]
          },
          "metadata": {
            "tags": []
          },
          "execution_count": 9
        },
        {
          "output_type": "display_data",
          "data": {
            "image/png": "[encoded data removed]",
            "text/plain": [
              "<Figure size 1296x360 with 1 Axes>"
            ]
          },
          "metadata": {
            "tags": [],
            "needs_background": "light"
          }
        }
      ]
    },
    {
      "cell_type": "code",
      "metadata": {
        "id": "VmtLqb0kaPoW",
        "colab_type": "code",
        "outputId": "b7c846b4-d1ca-4c85-a437-a71195b9971a",
        "colab": {
          "base_uri": "https://localhost:8080/",
          "height": 356
        }
      },
      "source": [
        "plt.figure(figsize = (18,5))\n",
        "\n",
        "plt.subplot(1,2,1)\n",
        "plt.hist(ogrenciler[\"Ortalama\"])\n",
        "plt.title(\"Ortalama Notu\", fontdict=baslik_font)\n",
        "\n",
        "plt.subplot(1,2,2)\n",
        "plt.hist(np.log(ogrenciler[\"Ortalama\"]))\n",
        "plt.title(\"Ortalama Notu\", fontdict=baslik_font)\n"
      ],
      "execution_count": 0,
      "outputs": [
        {
          "output_type": "execute_result",
          "data": {
            "text/plain": [
              "Text(0.5, 1.0, 'Ortalama Notu')"
            ]
          },
          "metadata": {
            "tags": []
          },
          "execution_count": 10
        },
        {
          "output_type": "display_data",
          "data": {
            "image/png": "[encoded data removed]",
            "text/plain": [
              "<Figure size 1296x360 with 2 Axes>"
            ]
          },
          "metadata": {
            "tags": [],
            "needs_background": "light"
          }
        }
      ]
    },
    {
      "cell_type": "code",
      "metadata": {
        "id": "KsYXl_wuaalp",
        "colab_type": "code",
        "outputId": "81af0544-3e86-4934-9da3-61273be4f5d4",
        "colab": {
          "base_uri": "https://localhost:8080/",
          "height": 35
        }
      },
      "source": [
        "medianlar = [np.median(ogrenciler[\"Ortalama\"]), np.median(ogrenciler[\"matematik_notu\"]),np.median(ogrenciler[\"okuma_notu\"]),np.median(ogrenciler[\"yazma_notu\"])]\n",
        "medianlar"
      ],
      "execution_count": 0,
      "outputs": [
        {
          "output_type": "execute_result",
          "data": {
            "text/plain": [
              "[68.33333333333333, 66.0, 70.0, 69.0]"
            ]
          },
          "metadata": {
            "tags": []
          },
          "execution_count": 11
        }
      ]
    },
    {
      "cell_type": "code",
      "metadata": {
        "id": "Oy72r76tbvFv",
        "colab_type": "code",
        "outputId": "9387b0bc-98a1-455d-9771-750176237ad8",
        "colab": {
          "base_uri": "https://localhost:8080/",
          "height": 177
        }
      },
      "source": [
        "ogrenciler[\"Ortalama\"].describe()"
      ],
      "execution_count": 0,
      "outputs": [
        {
          "output_type": "execute_result",
          "data": {
            "text/plain": [
              "count    1000.000000\n",
              "mean       67.770667\n",
              "std        14.257326\n",
              "min         9.000000\n",
              "25%        58.333333\n",
              "50%        68.333333\n",
              "75%        77.666667\n",
              "max       100.000000\n",
              "Name: Ortalama, dtype: float64"
            ]
          },
          "metadata": {
            "tags": []
          },
          "execution_count": 12
        }
      ]
    },
    {
      "cell_type": "code",
      "metadata": {
        "id": "9iuS2SOEdKOF",
        "colab_type": "code",
        "outputId": "280fbf96-9645-4f02-d1da-d24c09a9c375",
        "colab": {
          "base_uri": "https://localhost:8080/",
          "height": 164
        }
      },
      "source": [
        "from scipy.stats import jarque_bera\n",
        "from scipy.stats import normaltest\n",
        "\n",
        "pd.options.display.float_format = '{:.5f}'.format\n",
        "\n",
        "ozellikler = [\"Ortalama\", \"matematik_notu\", \"okuma_notu\", \"yazma_notu\"]\n",
        "dagilim_testleri = pd.DataFrame(columns=['ozellik', 'jarque_bera_stats', 'jarque_bera_p_value', \n",
        "                                         'normal_stats', 'normal_p_value'])\n",
        "\n",
        "for ozellik in ozellikler:\n",
        "    jb_stats = jarque_bera(ogrenciler[ozellik])\n",
        "    norm_stats = normaltest(ogrenciler[ozellik])\n",
        "    dagilim_testleri = dagilim_testleri.append({\"ozellik\": ozellik,\n",
        "                                                \"jarque_bera_stats\" : jb_stats[0] ,\n",
        "                                                \"jarque_bera_p_value\" : jb_stats[1] ,\n",
        "                                                \"normal_stats\": norm_stats[0] , \n",
        "                                                \"normal_p_value\" : norm_stats[1]\n",
        "                                               }, ignore_index=True)\n",
        "dagilim_testleri"
      ],
      "execution_count": 0,
      "outputs": [
        {
          "output_type": "execute_result",
          "data": {
            "text/html": [
              "<div>\n",
              "<style scoped>\n",
              "    .dataframe tbody tr th:only-of-type {\n",
              "        vertical-align: middle;\n",
              "    }\n",
              "\n",
              "    .dataframe tbody tr th {\n",
              "        vertical-align: top;\n",
              "    }\n",
              "\n",
              "    .dataframe thead th {\n",
              "        text-align: right;\n",
              "    }\n",
              "</style>\n",
              "<table border=\"1\" class=\"dataframe\">\n",
              "  <thead>\n",
              "    <tr style=\"text-align: right;\">\n",
              "      <th></th>\n",
              "      <th>ozellik</th>\n",
              "      <th>jarque_bera_stats</th>\n",
              "      <th>jarque_bera_p_value</th>\n",
              "      <th>normal_stats</th>\n",
              "      <th>normal_p_value</th>\n",
              "    </tr>\n",
              "  </thead>\n",
              "  <tbody>\n",
              "    <tr>\n",
              "      <th>0</th>\n",
              "      <td>Ortalama</td>\n",
              "      <td>15.45339</td>\n",
              "      <td>0.00044</td>\n",
              "      <td>15.18672</td>\n",
              "      <td>0.00050</td>\n",
              "    </tr>\n",
              "    <tr>\n",
              "      <th>1</th>\n",
              "      <td>matematik_notu</td>\n",
              "      <td>15.91226</td>\n",
              "      <td>0.00035</td>\n",
              "      <td>15.40896</td>\n",
              "      <td>0.00045</td>\n",
              "    </tr>\n",
              "    <tr>\n",
              "      <th>2</th>\n",
              "      <td>okuma_notu</td>\n",
              "      <td>11.38330</td>\n",
              "      <td>0.00337</td>\n",
              "      <td>11.11741</td>\n",
              "      <td>0.00385</td>\n",
              "    </tr>\n",
              "    <tr>\n",
              "      <th>3</th>\n",
              "      <td>yazma_notu</td>\n",
              "      <td>13.98509</td>\n",
              "      <td>0.00092</td>\n",
              "      <td>13.60645</td>\n",
              "      <td>0.00111</td>\n",
              "    </tr>\n",
              "  </tbody>\n",
              "</table>\n",
              "</div>"
            ],
            "text/plain": [
              "          ozellik  jarque_bera_stats  ...  normal_stats  normal_p_value\n",
              "0        Ortalama           15.45339  ...      15.18672         0.00050\n",
              "1  matematik_notu           15.91226  ...      15.40896         0.00045\n",
              "2      okuma_notu           11.38330  ...      11.11741         0.00385\n",
              "3      yazma_notu           13.98509  ...      13.60645         0.00111\n",
              "\n",
              "[4 rows x 5 columns]"
            ]
          },
          "metadata": {
            "tags": []
          },
          "execution_count": 13
        }
      ]
    },
    {
      "cell_type": "code",
      "metadata": {
        "id": "Rxq2eEg7xxJN",
        "colab_type": "code",
        "outputId": "50925600-9d38-41cc-c2e0-51ec35ac9ff3",
        "colab": {
          "base_uri": "https://localhost:8080/",
          "height": 35
        }
      },
      "source": [
        "kadın_ort= ogrenciler[ogrenciler[\"cinsiyet\"] == \"female\"][\"Ortalama\"].mean()\n",
        "kadın_ort\n",
        "\n",
        "erkek_ort = ogrenciler[ogrenciler[\"cinsiyet\"] == \"male\"][\"Ortalama\"].mean()\n",
        "erkek_ort\n",
        "\n",
        "erkek_ort"
      ],
      "execution_count": 0,
      "outputs": [
        {
          "output_type": "execute_result",
          "data": {
            "text/plain": [
              "65.83748271092671"
            ]
          },
          "metadata": {
            "tags": []
          },
          "execution_count": 28
        }
      ]
    },
    {
      "cell_type": "code",
      "metadata": {
        "id": "fxEbFlUYew_T",
        "colab_type": "code",
        "outputId": "0e0ecc60-3ad6-4c74-8d72-cb71b0833c8f",
        "colab": {
          "base_uri": "https://localhost:8080/",
          "height": 132
        }
      },
      "source": [
        "plt.figure(figsize(12,5))\n",
        "\n",
        "plt.subplot(1,1,1)\n",
        "sns.barplot(ogrenciler[\"cinsiyet\", ogrenciler[\"Ortalama\"])\n",
        "plt.title(\"Cinsiyete Göre Puanlar\")"
      ],
      "execution_count": 0,
      "outputs": [
        {
          "output_type": "error",
          "ename": "SyntaxError",
          "evalue": "ignored",
          "traceback": [
            "\u001b[0;36m  File \u001b[0;32m\"<ipython-input-15-88ab26edc6c4>\"\u001b[0;36m, line \u001b[0;32m4\u001b[0m\n\u001b[0;31m    sns.barplot(ogrenciler[\"cinsiyet\", ogrenciler[\"Ortalama\"])\u001b[0m\n\u001b[0m                                                             ^\u001b[0m\n\u001b[0;31mSyntaxError\u001b[0m\u001b[0;31m:\u001b[0m invalid syntax\n"
          ]
        }
      ]
    },
    {
      "cell_type": "code",
      "metadata": {
        "id": "eqHQ4Mt3xdGE",
        "colab_type": "code",
        "outputId": "1e504194-4f56-4da5-a25d-ce59e57db2e0",
        "colab": {
          "base_uri": "https://localhost:8080/",
          "height": 372
        }
      },
      "source": [
        "plt.figure(figsize=(18,5))\n",
        "\n",
        "plt.subplot(1,3,1)\n",
        "sns.barplot(ogrenciler[\"cinsiyet\"], ogrenciler [\"Ortalama\"])\n",
        "plt.title(\"Ortalama\", fontdict = baslik_font)\n"
      ],
      "execution_count": 0,
      "outputs": [
        {
          "output_type": "execute_result",
          "data": {
            "text/plain": [
              "Text(0.5, 1.0, 'Ortalama')"
            ]
          },
          "metadata": {
            "tags": []
          },
          "execution_count": 33
        },
        {
          "output_type": "display_data",
          "data": {
            "image/png": "[encoded data removed]",
            "text/plain": [
              "<Figure size 1296x360 with 1 Axes>"
            ]
          },
          "metadata": {
            "tags": [],
            "needs_background": "light"
          }
        }
      ]
    },
    {
      "cell_type": "code",
      "metadata": {
        "id": "G2k2pchn1TlZ",
        "colab_type": "code",
        "outputId": "1dd81d31-8130-44e1-c085-7ad5b9fc78b7",
        "colab": {
          "base_uri": "https://localhost:8080/",
          "height": 135
        }
      },
      "source": [
        "ogrenciler.groupby(\"cinsiyet\").mean()\n"
      ],
      "execution_count": 0,
      "outputs": [
        {
          "output_type": "execute_result",
          "data": {
            "text/html": [
              "<div>\n",
              "<style scoped>\n",
              "    .dataframe tbody tr th:only-of-type {\n",
              "        vertical-align: middle;\n",
              "    }\n",
              "\n",
              "    .dataframe tbody tr th {\n",
              "        vertical-align: top;\n",
              "    }\n",
              "\n",
              "    .dataframe thead th {\n",
              "        text-align: right;\n",
              "    }\n",
              "</style>\n",
              "<table border=\"1\" class=\"dataframe\">\n",
              "  <thead>\n",
              "    <tr style=\"text-align: right;\">\n",
              "      <th></th>\n",
              "      <th>matematik_notu</th>\n",
              "      <th>okuma_notu</th>\n",
              "      <th>yazma_notu</th>\n",
              "      <th>Ortalama</th>\n",
              "    </tr>\n",
              "    <tr>\n",
              "      <th>cinsiyet</th>\n",
              "      <th></th>\n",
              "      <th></th>\n",
              "      <th></th>\n",
              "      <th></th>\n",
              "    </tr>\n",
              "  </thead>\n",
              "  <tbody>\n",
              "    <tr>\n",
              "      <th>female</th>\n",
              "      <td>63.63320</td>\n",
              "      <td>72.60811</td>\n",
              "      <td>72.46718</td>\n",
              "      <td>69.56950</td>\n",
              "    </tr>\n",
              "    <tr>\n",
              "      <th>male</th>\n",
              "      <td>68.72822</td>\n",
              "      <td>65.47303</td>\n",
              "      <td>63.31120</td>\n",
              "      <td>65.83748</td>\n",
              "    </tr>\n",
              "  </tbody>\n",
              "</table>\n",
              "</div>"
            ],
            "text/plain": [
              "          matematik_notu  okuma_notu  yazma_notu  Ortalama\n",
              "cinsiyet                                                  \n",
              "female          63.63320    72.60811    72.46718  69.56950\n",
              "male            68.72822    65.47303    63.31120  65.83748"
            ]
          },
          "metadata": {
            "tags": []
          },
          "execution_count": 29
        }
      ]
    },
    {
      "cell_type": "code",
      "metadata": {
        "id": "zBbZolJZ3iuJ",
        "colab_type": "code",
        "outputId": "79dc7cac-4751-445a-ea5d-f1b9cd6fe41d",
        "colab": {
          "base_uri": "https://localhost:8080/",
          "height": 372
        }
      },
      "source": [
        "plt.figure(figsize=(18,5))\n",
        "\n",
        "plt.subplot(1,3,1)\n",
        "sns.barplot(ogrenciler[\"koken\"], ogrenciler [\"Ortalama\"])\n",
        "plt.title(\"Ortalama\", fontdict = baslik_font)\n"
      ],
      "execution_count": 0,
      "outputs": [
        {
          "output_type": "execute_result",
          "data": {
            "text/plain": [
              "Text(0.5, 1.0, 'Ortalama')"
            ]
          },
          "metadata": {
            "tags": []
          },
          "execution_count": 32
        },
        {
          "output_type": "display_data",
          "data": {
            "image/png": "[encoded data removed]",
            "text/plain": [
              "<Figure size 1296x360 with 1 Axes>"
            ]
          },
          "metadata": {
            "tags": [],
            "needs_background": "light"
          }
        }
      ]
    },
    {
      "cell_type": "code",
      "metadata": {
        "id": "r77E3Mzm3kCy",
        "colab_type": "code",
        "outputId": "8415f8f6-5d53-4f90-ecc5-aa87983d417e",
        "colab": {
          "base_uri": "https://localhost:8080/",
          "height": 372
        }
      },
      "source": [
        "plt.figure(figsize=(18,5))\n",
        "\n",
        "plt.subplot(1,3,1)\n",
        "sns.barplot(ogrenciler[\"aile_egt_seviyesi\"], ogrenciler [\"Ortalama\"])\n",
        "plt.title(\"Ortalama\", fontdict = baslik_font)"
      ],
      "execution_count": 0,
      "outputs": [
        {
          "output_type": "execute_result",
          "data": {
            "text/plain": [
              "Text(0.5, 1.0, 'Ortalama')"
            ]
          },
          "metadata": {
            "tags": []
          },
          "execution_count": 34
        },
        {
          "output_type": "display_data",
          "data": {
            "image/png": "[encoded data removed]",
            "text/plain": [
              "<Figure size 1296x360 with 1 Axes>"
            ]
          },
          "metadata": {
            "tags": [],
            "needs_background": "light"
          }
        }
      ]
    },
    {
      "cell_type": "code",
      "metadata": {
        "id": "fr-NYmjB4sXD",
        "colab_type": "code",
        "outputId": "6c572b72-2f91-4b8e-df69-4f0ee0e3abb0",
        "colab": {
          "base_uri": "https://localhost:8080/",
          "height": 372
        }
      },
      "source": [
        "plt.figure(figsize=(18,5))\n",
        "\n",
        "plt.subplot(1,3,1)\n",
        "sns.barplot(ogrenciler[\"ogle_yemegi\"], ogrenciler [\"Ortalama\"])\n",
        "plt.title(\"Ortalama\", fontdict = baslik_font)"
      ],
      "execution_count": 0,
      "outputs": [
        {
          "output_type": "execute_result",
          "data": {
            "text/plain": [
              "Text(0.5, 1.0, 'Ortalama')"
            ]
          },
          "metadata": {
            "tags": []
          },
          "execution_count": 35
        },
        {
          "output_type": "display_data",
          "data": {
            "image/png": "[encoded data removed]",
            "text/plain": [
              "<Figure size 1296x360 with 1 Axes>"
            ]
          },
          "metadata": {
            "tags": [],
            "needs_background": "light"
          }
        }
      ]
    },
    {
      "cell_type": "code",
      "metadata": {
        "id": "pBYhgOut49zB",
        "colab_type": "code",
        "outputId": "d6e0a697-2786-4596-f22a-9af8a2006668",
        "colab": {
          "base_uri": "https://localhost:8080/",
          "height": 388
        }
      },
      "source": [
        "from scipy.stats import jarque_bera\n",
        "from scipy.stats import normaltest\n",
        "\n",
        "pd.options.display.float_format = '{:.5f}'.format\n",
        "\n",
        "ozellikler = [\"ogle_yemegi\", \"koken\", \"aile_egt_seviyesi\"]\n",
        "dagilim_testleri = pd.DataFrame(columns=['ozellik', 'jarque_bera_stats', 'jarque_bera_p_value', \n",
        "                                         'normal_stats', 'normal_p_value'])\n",
        "\n",
        "for ozellik in ozellikler:\n",
        "    jb_stats = jarque_bera(ogrenciler[ozellik])\n",
        "    norm_stats = normaltest(ogrenciler[ozellik])\n",
        "    dagilim_testleri = dagilim_testleri.append({\"ozellik\": ozellik,\n",
        "                                                \"jarque_bera_stats\" : jb_stats[0] ,\n",
        "                                                \"jarque_bera_p_value\" : jb_stats[1] ,\n",
        "                                                \"normal_stats\": norm_stats[0] , \n",
        "                                                \"normal_p_value\" : norm_stats[1]\n",
        "                                                }, ignore_index=True)\n",
        "dagilim_testleri\n"
      ],
      "execution_count": 0,
      "outputs": [
        {
          "output_type": "error",
          "ename": "TypeError",
          "evalue": "ignored",
          "traceback": [
            "\u001b[0;31m---------------------------------------------------------------------------\u001b[0m",
            "\u001b[0;31mTypeError\u001b[0m                                 Traceback (most recent call last)",
            "\u001b[0;32m<ipython-input-37-e7e6dd84971e>\u001b[0m in \u001b[0;36m<module>\u001b[0;34m()\u001b[0m\n\u001b[1;32m      9\u001b[0m \u001b[0;34m\u001b[0m\u001b[0m\n\u001b[1;32m     10\u001b[0m \u001b[0;32mfor\u001b[0m \u001b[0mozellik\u001b[0m \u001b[0;32min\u001b[0m \u001b[0mozellikler\u001b[0m\u001b[0;34m:\u001b[0m\u001b[0;34m\u001b[0m\u001b[0;34m\u001b[0m\u001b[0m\n\u001b[0;32m---> 11\u001b[0;31m     \u001b[0mjb_stats\u001b[0m \u001b[0;34m=\u001b[0m \u001b[0mjarque_bera\u001b[0m\u001b[0;34m(\u001b[0m\u001b[0mogrenciler\u001b[0m\u001b[0;34m[\u001b[0m\u001b[0mozellik\u001b[0m\u001b[0;34m]\u001b[0m\u001b[0;34m)\u001b[0m\u001b[0;34m\u001b[0m\u001b[0;34m\u001b[0m\u001b[0m\n\u001b[0m\u001b[1;32m     12\u001b[0m     \u001b[0mnorm_stats\u001b[0m \u001b[0;34m=\u001b[0m \u001b[0mnormaltest\u001b[0m\u001b[0;34m(\u001b[0m\u001b[0mogrenciler\u001b[0m\u001b[0;34m[\u001b[0m\u001b[0mozellik\u001b[0m\u001b[0;34m]\u001b[0m\u001b[0;34m)\u001b[0m\u001b[0;34m\u001b[0m\u001b[0;34m\u001b[0m\u001b[0m\n\u001b[1;32m     13\u001b[0m     dagilim_testleri = dagilim_testleri.append({\"ozellik\": ozellik,\n",
            "\u001b[0;32m/usr/local/lib/python3.6/dist-packages/scipy/stats/stats.py\u001b[0m in \u001b[0;36mjarque_bera\u001b[0;34m(x)\u001b[0m\n\u001b[1;32m   1684\u001b[0m         \u001b[0;32mraise\u001b[0m \u001b[0mValueError\u001b[0m\u001b[0;34m(\u001b[0m\u001b[0;34m'At least one observation is required.'\u001b[0m\u001b[0;34m)\u001b[0m\u001b[0;34m\u001b[0m\u001b[0;34m\u001b[0m\u001b[0m\n\u001b[1;32m   1685\u001b[0m \u001b[0;34m\u001b[0m\u001b[0m\n\u001b[0;32m-> 1686\u001b[0;31m     \u001b[0mmu\u001b[0m \u001b[0;34m=\u001b[0m \u001b[0mx\u001b[0m\u001b[0;34m.\u001b[0m\u001b[0mmean\u001b[0m\u001b[0;34m(\u001b[0m\u001b[0;34m)\u001b[0m\u001b[0;34m\u001b[0m\u001b[0;34m\u001b[0m\u001b[0m\n\u001b[0m\u001b[1;32m   1687\u001b[0m     \u001b[0mdiffx\u001b[0m \u001b[0;34m=\u001b[0m \u001b[0mx\u001b[0m \u001b[0;34m-\u001b[0m \u001b[0mmu\u001b[0m\u001b[0;34m\u001b[0m\u001b[0;34m\u001b[0m\u001b[0m\n\u001b[1;32m   1688\u001b[0m     \u001b[0mskewness\u001b[0m \u001b[0;34m=\u001b[0m \u001b[0;34m(\u001b[0m\u001b[0;36m1\u001b[0m \u001b[0;34m/\u001b[0m \u001b[0mn\u001b[0m \u001b[0;34m*\u001b[0m \u001b[0mnp\u001b[0m\u001b[0;34m.\u001b[0m\u001b[0msum\u001b[0m\u001b[0;34m(\u001b[0m\u001b[0mdiffx\u001b[0m\u001b[0;34m**\u001b[0m\u001b[0;36m3\u001b[0m\u001b[0;34m)\u001b[0m\u001b[0;34m)\u001b[0m \u001b[0;34m/\u001b[0m \u001b[0;34m(\u001b[0m\u001b[0;36m1\u001b[0m \u001b[0;34m/\u001b[0m \u001b[0mn\u001b[0m \u001b[0;34m*\u001b[0m \u001b[0mnp\u001b[0m\u001b[0;34m.\u001b[0m\u001b[0msum\u001b[0m\u001b[0;34m(\u001b[0m\u001b[0mdiffx\u001b[0m\u001b[0;34m**\u001b[0m\u001b[0;36m2\u001b[0m\u001b[0;34m)\u001b[0m\u001b[0;34m)\u001b[0m\u001b[0;34m**\u001b[0m\u001b[0;34m(\u001b[0m\u001b[0;36m3\u001b[0m \u001b[0;34m/\u001b[0m \u001b[0;36m2.\u001b[0m\u001b[0;34m)\u001b[0m\u001b[0;34m\u001b[0m\u001b[0;34m\u001b[0m\u001b[0m\n",
            "\u001b[0;32m/usr/local/lib/python3.6/dist-packages/numpy/core/_methods.py\u001b[0m in \u001b[0;36m_mean\u001b[0;34m(a, axis, dtype, out, keepdims)\u001b[0m\n\u001b[1;32m    161\u001b[0m             \u001b[0mret\u001b[0m \u001b[0;34m=\u001b[0m \u001b[0mret\u001b[0m\u001b[0;34m.\u001b[0m\u001b[0mdtype\u001b[0m\u001b[0;34m.\u001b[0m\u001b[0mtype\u001b[0m\u001b[0;34m(\u001b[0m\u001b[0mret\u001b[0m \u001b[0;34m/\u001b[0m \u001b[0mrcount\u001b[0m\u001b[0;34m)\u001b[0m\u001b[0;34m\u001b[0m\u001b[0;34m\u001b[0m\u001b[0m\n\u001b[1;32m    162\u001b[0m     \u001b[0;32melse\u001b[0m\u001b[0;34m:\u001b[0m\u001b[0;34m\u001b[0m\u001b[0;34m\u001b[0m\u001b[0m\n\u001b[0;32m--> 163\u001b[0;31m         \u001b[0mret\u001b[0m \u001b[0;34m=\u001b[0m \u001b[0mret\u001b[0m \u001b[0;34m/\u001b[0m \u001b[0mrcount\u001b[0m\u001b[0;34m\u001b[0m\u001b[0;34m\u001b[0m\u001b[0m\n\u001b[0m\u001b[1;32m    164\u001b[0m \u001b[0;34m\u001b[0m\u001b[0m\n\u001b[1;32m    165\u001b[0m     \u001b[0;32mreturn\u001b[0m \u001b[0mret\u001b[0m\u001b[0;34m\u001b[0m\u001b[0;34m\u001b[0m\u001b[0m\n",
            "\u001b[0;31mTypeError\u001b[0m: unsupported operand type(s) for /: 'str' and 'int'"
          ]
        }
      ]
    },
    {
      "cell_type": "code",
      "metadata": {
        "id": "X01ieV4e7Ft1",
        "colab_type": "code",
        "outputId": "2d849b4c-97a6-4b73-a261-462f34ae489b",
        "colab": {
          "base_uri": "https://localhost:8080/",
          "height": 194
        }
      },
      "source": [
        "pd.get_dummies(ogrenciler[\"cinsiyet\"]).head()\n",
        "pd.get_dummies(ogrenciler[\"koken\"]).head()\n",
        "pd.get_dummies(ogrenciler[\"aile_egt_seviyesi\"]).head()\n",
        "pd.get_dummies(ogrenciler[\"ogle_yemegi\"]).head()\n",
        "pd.get_dummies(ogrenciler[\"hazirlik_kursu\"]).head()\n"
      ],
      "execution_count": 0,
      "outputs": [
        {
          "output_type": "execute_result",
          "data": {
            "text/html": [
              "<div>\n",
              "<style scoped>\n",
              "    .dataframe tbody tr th:only-of-type {\n",
              "        vertical-align: middle;\n",
              "    }\n",
              "\n",
              "    .dataframe tbody tr th {\n",
              "        vertical-align: top;\n",
              "    }\n",
              "\n",
              "    .dataframe thead th {\n",
              "        text-align: right;\n",
              "    }\n",
              "</style>\n",
              "<table border=\"1\" class=\"dataframe\">\n",
              "  <thead>\n",
              "    <tr style=\"text-align: right;\">\n",
              "      <th></th>\n",
              "      <th>completed</th>\n",
              "      <th>none</th>\n",
              "    </tr>\n",
              "  </thead>\n",
              "  <tbody>\n",
              "    <tr>\n",
              "      <th>0</th>\n",
              "      <td>0</td>\n",
              "      <td>1</td>\n",
              "    </tr>\n",
              "    <tr>\n",
              "      <th>1</th>\n",
              "      <td>1</td>\n",
              "      <td>0</td>\n",
              "    </tr>\n",
              "    <tr>\n",
              "      <th>2</th>\n",
              "      <td>0</td>\n",
              "      <td>1</td>\n",
              "    </tr>\n",
              "    <tr>\n",
              "      <th>3</th>\n",
              "      <td>0</td>\n",
              "      <td>1</td>\n",
              "    </tr>\n",
              "    <tr>\n",
              "      <th>4</th>\n",
              "      <td>0</td>\n",
              "      <td>1</td>\n",
              "    </tr>\n",
              "  </tbody>\n",
              "</table>\n",
              "</div>"
            ],
            "text/plain": [
              "   completed  none\n",
              "0          0     1\n",
              "1          1     0\n",
              "2          0     1\n",
              "3          0     1\n",
              "4          0     1"
            ]
          },
          "metadata": {
            "tags": []
          },
          "execution_count": 40
        }
      ]
    },
    {
      "cell_type": "code",
      "metadata": {
        "id": "47h1TeKg7g7n",
        "colab_type": "code",
        "outputId": "2ffe7bad-56ef-44e3-94ad-c95680f157a3",
        "colab": {
          "base_uri": "https://localhost:8080/",
          "height": 332
        }
      },
      "source": [
        "ogrenciler= pd.concat([ogrenciler, pd.get_dummies(ogrenciler[\"cinsiyet\"])], axis=1)\n",
        "ogrenciler= pd.concat([ogrenciler, pd.get_dummies(ogrenciler[\"koken\"])], axis=1)\n",
        "ogrenciler= pd.concat([ogrenciler, pd.get_dummies(ogrenciler[\"aile_egt_seviyesi\"])], axis=1)\n",
        "ogrenciler= pd.concat([ogrenciler, pd.get_dummies(ogrenciler[\"ogle_yemegi\"])], axis=1)\n",
        "ogrenciler= pd.concat([ogrenciler, pd.get_dummies(ogrenciler[\"hazirlik_kursu\"])], axis=1)\n",
        "ogrenciler.head()"
      ],
      "execution_count": 0,
      "outputs": [
        {
          "output_type": "execute_result",
          "data": {
            "text/html": [
              "<div>\n",
              "<style scoped>\n",
              "    .dataframe tbody tr th:only-of-type {\n",
              "        vertical-align: middle;\n",
              "    }\n",
              "\n",
              "    .dataframe tbody tr th {\n",
              "        vertical-align: top;\n",
              "    }\n",
              "\n",
              "    .dataframe thead th {\n",
              "        text-align: right;\n",
              "    }\n",
              "</style>\n",
              "<table border=\"1\" class=\"dataframe\">\n",
              "  <thead>\n",
              "    <tr style=\"text-align: right;\">\n",
              "      <th></th>\n",
              "      <th>cinsiyet</th>\n",
              "      <th>koken</th>\n",
              "      <th>aile_egt_seviyesi</th>\n",
              "      <th>ogle_yemegi</th>\n",
              "      <th>hazirlik_kursu</th>\n",
              "      <th>matematik_notu</th>\n",
              "      <th>okuma_notu</th>\n",
              "      <th>yazma_notu</th>\n",
              "      <th>Ortalama</th>\n",
              "      <th>female</th>\n",
              "      <th>male</th>\n",
              "      <th>female</th>\n",
              "      <th>male</th>\n",
              "      <th>group A</th>\n",
              "      <th>group B</th>\n",
              "      <th>group C</th>\n",
              "      <th>group D</th>\n",
              "      <th>group E</th>\n",
              "      <th>female</th>\n",
              "      <th>male</th>\n",
              "      <th>group A</th>\n",
              "      <th>group B</th>\n",
              "      <th>group C</th>\n",
              "      <th>group D</th>\n",
              "      <th>group E</th>\n",
              "      <th>associate's degree</th>\n",
              "      <th>bachelor's degree</th>\n",
              "      <th>high school</th>\n",
              "      <th>master's degree</th>\n",
              "      <th>some college</th>\n",
              "      <th>some high school</th>\n",
              "      <th>free/reduced</th>\n",
              "      <th>standard</th>\n",
              "      <th>completed</th>\n",
              "      <th>none</th>\n",
              "    </tr>\n",
              "  </thead>\n",
              "  <tbody>\n",
              "    <tr>\n",
              "      <th>0</th>\n",
              "      <td>female</td>\n",
              "      <td>group B</td>\n",
              "      <td>bachelor's degree</td>\n",
              "      <td>standard</td>\n",
              "      <td>none</td>\n",
              "      <td>72</td>\n",
              "      <td>72</td>\n",
              "      <td>74</td>\n",
              "      <td>72.66667</td>\n",
              "      <td>1</td>\n",
              "      <td>0</td>\n",
              "      <td>1</td>\n",
              "      <td>0</td>\n",
              "      <td>0</td>\n",
              "      <td>1</td>\n",
              "      <td>0</td>\n",
              "      <td>0</td>\n",
              "      <td>0</td>\n",
              "      <td>1</td>\n",
              "      <td>0</td>\n",
              "      <td>0</td>\n",
              "      <td>1</td>\n",
              "      <td>0</td>\n",
              "      <td>0</td>\n",
              "      <td>0</td>\n",
              "      <td>0</td>\n",
              "      <td>1</td>\n",
              "      <td>0</td>\n",
              "      <td>0</td>\n",
              "      <td>0</td>\n",
              "      <td>0</td>\n",
              "      <td>0</td>\n",
              "      <td>1</td>\n",
              "      <td>0</td>\n",
              "      <td>1</td>\n",
              "    </tr>\n",
              "    <tr>\n",
              "      <th>1</th>\n",
              "      <td>female</td>\n",
              "      <td>group C</td>\n",
              "      <td>some college</td>\n",
              "      <td>standard</td>\n",
              "      <td>completed</td>\n",
              "      <td>69</td>\n",
              "      <td>90</td>\n",
              "      <td>88</td>\n",
              "      <td>82.33333</td>\n",
              "      <td>1</td>\n",
              "      <td>0</td>\n",
              "      <td>1</td>\n",
              "      <td>0</td>\n",
              "      <td>0</td>\n",
              "      <td>0</td>\n",
              "      <td>1</td>\n",
              "      <td>0</td>\n",
              "      <td>0</td>\n",
              "      <td>1</td>\n",
              "      <td>0</td>\n",
              "      <td>0</td>\n",
              "      <td>0</td>\n",
              "      <td>1</td>\n",
              "      <td>0</td>\n",
              "      <td>0</td>\n",
              "      <td>0</td>\n",
              "      <td>0</td>\n",
              "      <td>0</td>\n",
              "      <td>0</td>\n",
              "      <td>1</td>\n",
              "      <td>0</td>\n",
              "      <td>0</td>\n",
              "      <td>1</td>\n",
              "      <td>1</td>\n",
              "      <td>0</td>\n",
              "    </tr>\n",
              "    <tr>\n",
              "      <th>2</th>\n",
              "      <td>female</td>\n",
              "      <td>group B</td>\n",
              "      <td>master's degree</td>\n",
              "      <td>standard</td>\n",
              "      <td>none</td>\n",
              "      <td>90</td>\n",
              "      <td>95</td>\n",
              "      <td>93</td>\n",
              "      <td>92.66667</td>\n",
              "      <td>1</td>\n",
              "      <td>0</td>\n",
              "      <td>1</td>\n",
              "      <td>0</td>\n",
              "      <td>0</td>\n",
              "      <td>1</td>\n",
              "      <td>0</td>\n",
              "      <td>0</td>\n",
              "      <td>0</td>\n",
              "      <td>1</td>\n",
              "      <td>0</td>\n",
              "      <td>0</td>\n",
              "      <td>1</td>\n",
              "      <td>0</td>\n",
              "      <td>0</td>\n",
              "      <td>0</td>\n",
              "      <td>0</td>\n",
              "      <td>0</td>\n",
              "      <td>0</td>\n",
              "      <td>1</td>\n",
              "      <td>0</td>\n",
              "      <td>0</td>\n",
              "      <td>0</td>\n",
              "      <td>1</td>\n",
              "      <td>0</td>\n",
              "      <td>1</td>\n",
              "    </tr>\n",
              "    <tr>\n",
              "      <th>3</th>\n",
              "      <td>male</td>\n",
              "      <td>group A</td>\n",
              "      <td>associate's degree</td>\n",
              "      <td>free/reduced</td>\n",
              "      <td>none</td>\n",
              "      <td>47</td>\n",
              "      <td>57</td>\n",
              "      <td>44</td>\n",
              "      <td>49.33333</td>\n",
              "      <td>0</td>\n",
              "      <td>1</td>\n",
              "      <td>0</td>\n",
              "      <td>1</td>\n",
              "      <td>1</td>\n",
              "      <td>0</td>\n",
              "      <td>0</td>\n",
              "      <td>0</td>\n",
              "      <td>0</td>\n",
              "      <td>0</td>\n",
              "      <td>1</td>\n",
              "      <td>1</td>\n",
              "      <td>0</td>\n",
              "      <td>0</td>\n",
              "      <td>0</td>\n",
              "      <td>0</td>\n",
              "      <td>1</td>\n",
              "      <td>0</td>\n",
              "      <td>0</td>\n",
              "      <td>0</td>\n",
              "      <td>0</td>\n",
              "      <td>0</td>\n",
              "      <td>1</td>\n",
              "      <td>0</td>\n",
              "      <td>0</td>\n",
              "      <td>1</td>\n",
              "    </tr>\n",
              "    <tr>\n",
              "      <th>4</th>\n",
              "      <td>male</td>\n",
              "      <td>group C</td>\n",
              "      <td>some college</td>\n",
              "      <td>standard</td>\n",
              "      <td>none</td>\n",
              "      <td>76</td>\n",
              "      <td>78</td>\n",
              "      <td>75</td>\n",
              "      <td>76.33333</td>\n",
              "      <td>0</td>\n",
              "      <td>1</td>\n",
              "      <td>0</td>\n",
              "      <td>1</td>\n",
              "      <td>0</td>\n",
              "      <td>0</td>\n",
              "      <td>1</td>\n",
              "      <td>0</td>\n",
              "      <td>0</td>\n",
              "      <td>0</td>\n",
              "      <td>1</td>\n",
              "      <td>0</td>\n",
              "      <td>0</td>\n",
              "      <td>1</td>\n",
              "      <td>0</td>\n",
              "      <td>0</td>\n",
              "      <td>0</td>\n",
              "      <td>0</td>\n",
              "      <td>0</td>\n",
              "      <td>0</td>\n",
              "      <td>1</td>\n",
              "      <td>0</td>\n",
              "      <td>0</td>\n",
              "      <td>1</td>\n",
              "      <td>0</td>\n",
              "      <td>1</td>\n",
              "    </tr>\n",
              "  </tbody>\n",
              "</table>\n",
              "</div>"
            ],
            "text/plain": [
              "  cinsiyet    koken   aile_egt_seviyesi  ... standard completed  none\n",
              "0   female  group B   bachelor's degree  ...        1         0     1\n",
              "1   female  group C        some college  ...        1         1     0\n",
              "2   female  group B     master's degree  ...        1         0     1\n",
              "3     male  group A  associate's degree  ...        0         0     1\n",
              "4     male  group C        some college  ...        1         0     1\n",
              "\n",
              "[5 rows x 35 columns]"
            ]
          },
          "metadata": {
            "tags": []
          },
          "execution_count": 42
        }
      ]
    },
    {
      "cell_type": "code",
      "metadata": {
        "id": "7PeFfPex-zZA",
        "colab_type": "code",
        "outputId": "f2d02d2f-9f29-40f8-cf9b-e8b6a7d43bc1",
        "colab": {
          "base_uri": "https://localhost:8080/",
          "height": 159
        }
      },
      "source": [
        "ogrenciler.columns"
      ],
      "execution_count": 0,
      "outputs": [
        {
          "output_type": "execute_result",
          "data": {
            "text/plain": [
              "Index(['cinsiyet', 'koken', 'aile_egt_seviyesi', 'ogle_yemegi',\n",
              "       'hazirlik_kursu', 'matematik_notu', 'okuma_notu', 'yazma_notu',\n",
              "       'Ortalama', 'female', 'male', 'female', 'male', 'group A', 'group B',\n",
              "       'group C', 'group D', 'group E', 'female', 'male', 'group A', 'group B',\n",
              "       'group C', 'group D', 'group E', 'associate's degree',\n",
              "       'bachelor's degree', 'high school', 'master's degree', 'some college',\n",
              "       'some high school', 'free/reduced', 'standard', 'completed', 'none'],\n",
              "      dtype='object')"
            ]
          },
          "metadata": {
            "tags": []
          },
          "execution_count": 47
        }
      ]
    },
    {
      "cell_type": "code",
      "metadata": {
        "id": "pmOW3-w58R66",
        "colab_type": "code",
        "outputId": "5fd0648e-113b-4152-96d9-47bbd22b69aa",
        "colab": {
          "base_uri": "https://localhost:8080/",
          "height": 340
        }
      },
      "source": [
        "from scipy.stats import jarque_bera\n",
        "from scipy.stats import normaltest\n",
        "\n",
        "pd.options.display.float_format = '{:.5f}'.format\n",
        "\n",
        "ozellikler = ['female', 'male','group A','group B','group C', 'group D','free/reduced', 'standard', 'completed', 'none']\n",
        "dagilim_testleri = pd.DataFrame(columns=['ozellik', 'jarque_bera_stats', 'jarque_bera_p_value', \n",
        "                                         'normal_stats', 'normal_p_value'])\n",
        "\n",
        "for ozellik in ozellikler:\n",
        "    jb_stats = jarque_bera(ogrenciler[ozellik])\n",
        "    norm_stats = normaltest(ogrenciler[ozellik])\n",
        "    dagilim_testleri = dagilim_testleri.append({\"ozellik\": ozellik,\n",
        "                                                \"jarque_bera_stats\" : jb_stats[0] ,\n",
        "                                                \"jarque_bera_p_value\" : jb_stats[1] ,\n",
        "                                                \"normal_stats\": norm_stats[0] , \n",
        "                                                \"normal_p_value\" : norm_stats[1]\n",
        "                                                }, ignore_index=True)\n",
        "dagilim_testleri\n"
      ],
      "execution_count": 0,
      "outputs": [
        {
          "output_type": "execute_result",
          "data": {
            "text/html": [
              "<div>\n",
              "<style scoped>\n",
              "    .dataframe tbody tr th:only-of-type {\n",
              "        vertical-align: middle;\n",
              "    }\n",
              "\n",
              "    .dataframe tbody tr th {\n",
              "        vertical-align: top;\n",
              "    }\n",
              "\n",
              "    .dataframe thead th {\n",
              "        text-align: right;\n",
              "    }\n",
              "</style>\n",
              "<table border=\"1\" class=\"dataframe\">\n",
              "  <thead>\n",
              "    <tr style=\"text-align: right;\">\n",
              "      <th></th>\n",
              "      <th>ozellik</th>\n",
              "      <th>jarque_bera_stats</th>\n",
              "      <th>jarque_bera_p_value</th>\n",
              "      <th>normal_stats</th>\n",
              "      <th>normal_p_value</th>\n",
              "    </tr>\n",
              "  </thead>\n",
              "  <tbody>\n",
              "    <tr>\n",
              "      <th>0</th>\n",
              "      <td>female</td>\n",
              "      <td>500.00337</td>\n",
              "      <td>0.00000</td>\n",
              "      <td>[3775.9602659150337, 3775.9602659150337, 3775....</td>\n",
              "      <td>[0.0, 0.0, 0.0]</td>\n",
              "    </tr>\n",
              "    <tr>\n",
              "      <th>1</th>\n",
              "      <td>male</td>\n",
              "      <td>500.00337</td>\n",
              "      <td>0.00000</td>\n",
              "      <td>[3775.9602659150337, 3775.9602659150337, 3775....</td>\n",
              "      <td>[0.0, 0.0, 0.0]</td>\n",
              "    </tr>\n",
              "    <tr>\n",
              "      <th>2</th>\n",
              "      <td>group A</td>\n",
              "      <td>6120.81005</td>\n",
              "      <td>0.00000</td>\n",
              "      <td>[584.7907379715066, 584.7907379715066]</td>\n",
              "      <td>[1.0334862797076577e-127, 1.0334862797076577e-...</td>\n",
              "    </tr>\n",
              "    <tr>\n",
              "      <th>3</th>\n",
              "      <td>group B</td>\n",
              "      <td>853.21951</td>\n",
              "      <td>0.00000</td>\n",
              "      <td>[234.9849721546788, 234.9849721546788]</td>\n",
              "      <td>[9.411560352085637e-52, 9.411560352085637e-52]</td>\n",
              "    </tr>\n",
              "    <tr>\n",
              "      <th>4</th>\n",
              "      <td>group C</td>\n",
              "      <td>363.65670</td>\n",
              "      <td>0.00000</td>\n",
              "      <td>[14834.62498199985, 14834.62498199985]</td>\n",
              "      <td>[0.0, 0.0]</td>\n",
              "    </tr>\n",
              "    <tr>\n",
              "      <th>5</th>\n",
              "      <td>group D</td>\n",
              "      <td>447.76106</td>\n",
              "      <td>0.00000</td>\n",
              "      <td>[228.37417056339333, 228.37417056339333]</td>\n",
              "      <td>[2.5655409883094337e-50, 2.5655409883094337e-50]</td>\n",
              "    </tr>\n",
              "    <tr>\n",
              "      <th>6</th>\n",
              "      <td>free/reduced</td>\n",
              "      <td>172.28755</td>\n",
              "      <td>0.00000</td>\n",
              "      <td>5367.08722</td>\n",
              "      <td>0.00000</td>\n",
              "    </tr>\n",
              "    <tr>\n",
              "      <th>7</th>\n",
              "      <td>standard</td>\n",
              "      <td>172.28755</td>\n",
              "      <td>0.00000</td>\n",
              "      <td>5367.08722</td>\n",
              "      <td>0.00000</td>\n",
              "    </tr>\n",
              "    <tr>\n",
              "      <th>8</th>\n",
              "      <td>completed</td>\n",
              "      <td>171.79795</td>\n",
              "      <td>0.00000</td>\n",
              "      <td>5233.87137</td>\n",
              "      <td>0.00000</td>\n",
              "    </tr>\n",
              "    <tr>\n",
              "      <th>9</th>\n",
              "      <td>none</td>\n",
              "      <td>171.79795</td>\n",
              "      <td>0.00000</td>\n",
              "      <td>5233.87137</td>\n",
              "      <td>0.00000</td>\n",
              "    </tr>\n",
              "  </tbody>\n",
              "</table>\n",
              "</div>"
            ],
            "text/plain": [
              "        ozellik  ...                                     normal_p_value\n",
              "0        female  ...                                    [0.0, 0.0, 0.0]\n",
              "1          male  ...                                    [0.0, 0.0, 0.0]\n",
              "2       group A  ...  [1.0334862797076577e-127, 1.0334862797076577e-...\n",
              "3       group B  ...     [9.411560352085637e-52, 9.411560352085637e-52]\n",
              "4       group C  ...                                         [0.0, 0.0]\n",
              "5       group D  ...   [2.5655409883094337e-50, 2.5655409883094337e-50]\n",
              "6  free/reduced  ...                                            0.00000\n",
              "7      standard  ...                                            0.00000\n",
              "8     completed  ...                                            0.00000\n",
              "9          none  ...                                            0.00000\n",
              "\n",
              "[10 rows x 5 columns]"
            ]
          },
          "metadata": {
            "tags": []
          },
          "execution_count": 51
        }
      ]
    },
    {
      "cell_type": "code",
      "metadata": {
        "id": "N76LuYTu-EIW",
        "colab_type": "code",
        "colab": {}
      },
      "source": [
        ""
      ],
      "execution_count": 0,
      "outputs": []
    }
  ]
}