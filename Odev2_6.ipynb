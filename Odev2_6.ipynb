{
  "nbformat": 4,
  "nbformat_minor": 0,
  "metadata": {
    "colab": {
      "name": "Odev2.6.ipynb",
      "provenance": [],
      "collapsed_sections": [],
      "authorship_tag": "ABX9TyPvcTt6wO1quuDA5NtNTdKS",
      "include_colab_link": true
    },
    "kernelspec": {
      "name": "python3",
      "display_name": "Python 3"
    }
  },
  "cells": [
    {
      "cell_type": "markdown",
      "metadata": {
        "id": "view-in-github",
        "colab_type": "text"
      },
      "source": [
        "<a href=\"https://colab.research.google.com/github/KaanErdogdu/Bootcamp_Bolum_1/blob/master/Odev2_6.ipynb\" target=\"_parent\"><img src=\"https://colab.research.google.com/assets/colab-badge.svg\" alt=\"Open In Colab\"/></a>"
      ]
    },
    {
      "cell_type": "code",
      "metadata": {
        "id": "Yh5F-OqPXg0z",
        "colab_type": "code",
        "colab": {}
      },
      "source": [
        "import numpy as np"
      ],
      "execution_count": 0,
      "outputs": []
    },
    {
      "cell_type": "markdown",
      "metadata": {
        "id": "Q5QNHTAOXqmR",
        "colab_type": "text"
      },
      "source": [
        "1.)"
      ]
    },
    {
      "cell_type": "code",
      "metadata": {
        "id": "htpIgtPzXsKq",
        "colab_type": "code",
        "colab": {
          "base_uri": "https://localhost:8080/",
          "height": 187
        },
        "outputId": "065233bf-7859-4244-9c7b-5d10c890a13e"
      },
      "source": [
        "aba=np.arange(0,200,2).reshape(10,10)\n",
        "print(aba)"
      ],
      "execution_count": 6,
      "outputs": [
        {
          "output_type": "stream",
          "text": [
            "[[  0   2   4   6   8  10  12  14  16  18]\n",
            " [ 20  22  24  26  28  30  32  34  36  38]\n",
            " [ 40  42  44  46  48  50  52  54  56  58]\n",
            " [ 60  62  64  66  68  70  72  74  76  78]\n",
            " [ 80  82  84  86  88  90  92  94  96  98]\n",
            " [100 102 104 106 108 110 112 114 116 118]\n",
            " [120 122 124 126 128 130 132 134 136 138]\n",
            " [140 142 144 146 148 150 152 154 156 158]\n",
            " [160 162 164 166 168 170 172 174 176 178]\n",
            " [180 182 184 186 188 190 192 194 196 198]]\n"
          ],
          "name": "stdout"
        }
      ]
    },
    {
      "cell_type": "markdown",
      "metadata": {
        "id": "6aGAUS-wYK3o",
        "colab_type": "text"
      },
      "source": [
        "2.)"
      ]
    },
    {
      "cell_type": "code",
      "metadata": {
        "id": "11Ik3rmWXweq",
        "colab_type": "code",
        "colab": {
          "base_uri": "https://localhost:8080/",
          "height": 102
        },
        "outputId": "5495b4b8-a5bb-4198-9453-9c25c6885848"
      },
      "source": [
        "absd= np.ones((5,7))\n",
        "absd[1:4,1:6]=[0]\n",
        "print(absd)"
      ],
      "execution_count": 8,
      "outputs": [
        {
          "output_type": "stream",
          "text": [
            "[[1. 1. 1. 1. 1. 1. 1.]\n",
            " [1. 0. 0. 0. 0. 0. 1.]\n",
            " [1. 0. 0. 0. 0. 0. 1.]\n",
            " [1. 0. 0. 0. 0. 0. 1.]\n",
            " [1. 1. 1. 1. 1. 1. 1.]]\n"
          ],
          "name": "stdout"
        }
      ]
    },
    {
      "cell_type": "code",
      "metadata": {
        "id": "MWpvwNhYYISI",
        "colab_type": "code",
        "colab": {}
      },
      "source": [
        ""
      ],
      "execution_count": 0,
      "outputs": []
    }
  ]
}